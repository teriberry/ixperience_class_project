{
 "cells": [
  {
   "cell_type": "code",
   "execution_count": 470,
   "id": "d3718433-0335-42ab-acca-861a802d5bcc",
   "metadata": {},
   "outputs": [],
   "source": [
    "import pandas as pd\n",
    "import seaborn as sns\n",
    "import numpy as np\n",
    "from sklearn.linear_model import LinearRegression, LogisticRegression\n",
    "from sklearn.model_selection import cross_val_score, train_test_split\n",
    "from sklearn.metrics import accuracy_score\n",
    "from sklearn.tree import DecisionTreeClassifier\n",
    "from sklearn import metrics \n",
    "from sklearn.decomposition import PCA\n",
    "from sklearn.preprocessing import StandardScaler\n",
    "import matplotlib.pyplot as plt\n",
    "from sklearn import preprocessing\n",
    "from sklearn import utils\n",
    "from sklearn.metrics import confusion_matrix\n",
    "\n"
   ]
  },
  {
   "cell_type": "code",
   "execution_count": 471,
   "id": "3cf9cf92-5bc7-44d5-90cd-cb51e7b46027",
   "metadata": {},
   "outputs": [],
   "source": [
    "train_file = pd.read_csv('train_file_clean.csv')"
   ]
  },
  {
   "cell_type": "code",
   "execution_count": 472,
   "id": "5214b823-18bf-45b8-bb73-03be81179279",
   "metadata": {},
   "outputs": [
    {
     "data": {
      "text/plain": [
       "Index(['Unnamed: 0', 'Tour_ID', 'country', 'age_group', 'travel_with',\n",
       "       'total_female', 'total_male', 'purpose', 'main_activity', 'info_source',\n",
       "       'tour_arrangement', 'package_transport_int', 'package_accomodation',\n",
       "       'package_food', 'package_transport_tz', 'package_sightseeing',\n",
       "       'package_guided_tour', 'package_insurance', 'night_mainland',\n",
       "       'night_zanzibar', 'first_trip_tz', 'cost_category', 'total_packages',\n",
       "       'total_people', 'total_days', 'continent'],\n",
       "      dtype='object')"
      ]
     },
     "execution_count": 472,
     "metadata": {},
     "output_type": "execute_result"
    }
   ],
   "source": [
    "train_file.columns"
   ]
  },
  {
   "cell_type": "code",
   "execution_count": 473,
   "id": "8fb2d983-e04b-4d90-8551-e3a8dfc59c5a",
   "metadata": {},
   "outputs": [],
   "source": [
    "train_file.drop(columns=['Unnamed: 0', 'country'], axis=0, inplace=True)"
   ]
  },
  {
   "cell_type": "code",
   "execution_count": 474,
   "id": "c15122f4-1bac-4144-bd36-5ff6e8dc2c5b",
   "metadata": {},
   "outputs": [],
   "source": [
    "train_file.set_index('Tour_ID', inplace = True)"
   ]
  },
  {
   "cell_type": "code",
   "execution_count": 475,
   "id": "1828045a-de7e-43e2-b890-958d6f796c68",
   "metadata": {},
   "outputs": [],
   "source": [
    "train_file['cost_category'].replace({1 : 'Lower Cost', \n",
    "                    2 : 'Low Cost', \n",
    "                    3 : 'Normal Cost', \n",
    "                    4 : 'High Cost', \n",
    "                    5 : 'Higher Cost', \n",
    "                    6 : 'Highest Cost'}, inplace=True)"
   ]
  },
  {
   "cell_type": "code",
   "execution_count": 476,
   "id": "f3b7e1a1-c199-4374-8266-31ce85d35c3c",
   "metadata": {},
   "outputs": [],
   "source": [
    "train_file['total_female']= train_file['total_female'].dropna() "
   ]
  },
  {
   "cell_type": "code",
   "execution_count": 477,
   "id": "04094fec-ddcc-4a82-ac8f-259030366f28",
   "metadata": {},
   "outputs": [],
   "source": [
    "train_file['total_male']= train_file['total_male'].dropna() "
   ]
  },
  {
   "cell_type": "code",
   "execution_count": 478,
   "id": "ea618899-24a8-4dc2-84ce-09f885cc05ef",
   "metadata": {},
   "outputs": [],
   "source": [
    "train_file = train_file.dropna() "
   ]
  },
  {
   "cell_type": "code",
   "execution_count": 479,
   "id": "de6cc71a-b309-407a-9d77-db240ce7a08e",
   "metadata": {},
   "outputs": [],
   "source": [
    "tf_dummy = pd.get_dummies(train_file, columns = ['age_group', 'travel_with', 'purpose', \n",
    "                                             'main_activity', 'info_source', \n",
    "                                                 'tour_arrangement', 'continent'])"
   ]
  },
  {
   "cell_type": "code",
   "execution_count": 480,
   "id": "cb2e950a-58ef-4f70-a6d9-0e1f5ffff703",
   "metadata": {},
   "outputs": [],
   "source": [
    "train_file.drop(columns = ['age_group', 'travel_with', 'purpose', 'main_activity', 'info_source', 'tour_arrangement', 'continent', 'cost_category'], axis = 1, inplace = True)"
   ]
  },
  {
   "cell_type": "code",
   "execution_count": 481,
   "id": "ded2e5d5-91a5-4467-b817-4f0ac2c5f8d0",
   "metadata": {},
   "outputs": [],
   "source": [
    "train_file = pd.concat([train_file, tf_dummy], axis=1)"
   ]
  },
  {
   "cell_type": "code",
   "execution_count": 482,
   "id": "9c1c5fe3-cfd7-49ce-9a68-a1990ff15e02",
   "metadata": {},
   "outputs": [],
   "source": [
    "cols = train_file.columns.tolist()"
   ]
  },
  {
   "cell_type": "code",
   "execution_count": 483,
   "id": "b1c7fbcb-bf8d-4888-8c0e-e3ba5e09444c",
   "metadata": {},
   "outputs": [],
   "source": [
    "cols = cols.remove('cost_category')"
   ]
  },
  {
   "cell_type": "code",
   "execution_count": 484,
   "id": "a0f1342e-7893-4cbc-943d-009664b24b86",
   "metadata": {},
   "outputs": [],
   "source": [
    "X = train_file.loc[:, train_file.columns != 'cost_category']\n"
   ]
  },
  {
   "cell_type": "code",
   "execution_count": 548,
   "id": "05db8fc7-dbe5-4c0d-a81b-5c08621e12aa",
   "metadata": {},
   "outputs": [],
   "source": [
    "y = train_file['cost_category']"
   ]
  },
  {
   "cell_type": "code",
   "execution_count": 486,
   "id": "cf8a4b1b",
   "metadata": {},
   "outputs": [
    {
     "data": {
      "text/plain": [
       "Tour_ID\n",
       "tour_id1hffseyw      High Cost\n",
       "tour_idnacd7zag      High Cost\n",
       "tour_id62vz7e71    Higher Cost\n",
       "tour_idrc76tzix     Lower Cost\n",
       "tour_idn723m0n9    Higher Cost\n",
       "                      ...     \n",
       "tour_idmp5ciw50     Lower Cost\n",
       "tour_ideq0yncfs     Lower Cost\n",
       "tour_idv7pz3vs8    Higher Cost\n",
       "tour_idy6ydo00w    Higher Cost\n",
       "tour_idceoq9por       Low Cost\n",
       "Name: cost_category, Length: 18478, dtype: object"
      ]
     },
     "execution_count": 486,
     "metadata": {},
     "output_type": "execute_result"
    }
   ],
   "source": [
    "y"
   ]
  },
  {
   "cell_type": "code",
   "execution_count": 549,
   "id": "99f1b597-4cd9-4933-80d5-009f0e730db9",
   "metadata": {},
   "outputs": [],
   "source": [
    "X_train, X_test, y_train, y_test = train_test_split(X, y, train_size=0.7, random_state = 42)"
   ]
  },
  {
   "cell_type": "code",
   "execution_count": 488,
   "id": "0448eaae-d54c-47f8-adbb-9b6706fee070",
   "metadata": {},
   "outputs": [],
   "source": [
    "model = LogisticRegression(multi_class='multinomial', solver='lbfgs', max_iter=10000).fit(X_train, y_train)"
   ]
  },
  {
   "cell_type": "code",
   "execution_count": 489,
   "id": "e799a78d-e56a-4b98-8c83-da204113cfde",
   "metadata": {},
   "outputs": [],
   "source": [
    "y_pred = model.predict(X_test)"
   ]
  },
  {
   "cell_type": "code",
   "execution_count": 490,
   "id": "d36048cb-45ad-4b21-a783-59a2b1a88acf",
   "metadata": {},
   "outputs": [
    {
     "data": {
      "text/plain": [
       "0.553030303030303"
      ]
     },
     "execution_count": 490,
     "metadata": {},
     "output_type": "execute_result"
    }
   ],
   "source": [
    "accuracy = accuracy_score(y_test, y_pred)\n",
    "accuracy"
   ]
  },
  {
   "cell_type": "code",
   "execution_count": 491,
   "id": "4ac2a7e6",
   "metadata": {},
   "outputs": [
    {
     "data": {
      "text/plain": [
       "array([[2.02746890e-01, 3.20104701e-01, 2.17654183e-03, 4.65945231e-02,\n",
       "        2.04052797e-02, 4.07972064e-01],\n",
       "       [2.36053992e-01, 3.19847447e-01, 2.28715449e-03, 3.69437564e-02,\n",
       "        4.52645133e-03, 4.00341199e-01],\n",
       "       [1.69485333e-02, 3.53558727e-03, 9.30935164e-05, 2.50484952e-01,\n",
       "        4.21119501e-01, 3.07818333e-01],\n",
       "       ...,\n",
       "       [1.11411787e-01, 3.35735091e-02, 6.52604901e-04, 1.21559343e-01,\n",
       "        9.63641311e-02, 6.36438625e-01],\n",
       "       [2.55061099e-01, 4.38758874e-01, 1.98348705e-01, 8.12804433e-03,\n",
       "        4.45916133e-03, 9.52441157e-02],\n",
       "       [1.40398126e-01, 4.57262820e-02, 7.01945692e-04, 1.17447064e-01,\n",
       "        1.79309715e-01, 5.16416868e-01]])"
      ]
     },
     "execution_count": 491,
     "metadata": {},
     "output_type": "execute_result"
    }
   ],
   "source": [
    "model.predict_proba(X_test)"
   ]
  },
  {
   "cell_type": "markdown",
   "id": "a2600272-b4e2-4601-9e24-f69c5791c252",
   "metadata": {},
   "source": [
    "# PCA test"
   ]
  },
  {
   "cell_type": "code",
   "execution_count": 493,
   "id": "d0be94ce-9d43-4815-b646-378fa5db9fd3",
   "metadata": {},
   "outputs": [],
   "source": [
    "train_file.replace({'Lower Cost' : 1, \n",
    "                    'Low Cost' : 2, \n",
    "                    'Normal Cost' : 3, \n",
    "                    'High Cost' : 4, \n",
    "                    'Higher Cost' : 5, \n",
    "                    'Highest Cost' : 6}, inplace=True)"
   ]
  },
  {
   "cell_type": "code",
   "execution_count": 494,
   "id": "56f31c20-171e-4792-a86d-3cc28c4990be",
   "metadata": {},
   "outputs": [],
   "source": [
    "scaler = StandardScaler()"
   ]
  },
  {
   "cell_type": "code",
   "execution_count": 495,
   "id": "bbbf4aac-2d5b-4f56-814c-7fe4ca00a0b9",
   "metadata": {},
   "outputs": [],
   "source": [
    "train_file = pd.DataFrame(scaler.fit_transform(train_file), columns=train_file.columns)"
   ]
  },
  {
   "cell_type": "code",
   "execution_count": 497,
   "id": "65fdd0e0-3312-4624-a6c9-10c9bdd72086",
   "metadata": {},
   "outputs": [
    {
     "data": {
      "text/plain": [
       "(18478, 76)"
      ]
     },
     "execution_count": 497,
     "metadata": {},
     "output_type": "execute_result"
    }
   ],
   "source": [
    "train_file.shape"
   ]
  },
  {
   "cell_type": "code",
   "execution_count": 498,
   "id": "3faf72e3-5ef8-4afd-8f33-cac51e282c56",
   "metadata": {},
   "outputs": [],
   "source": [
    "pca = PCA()"
   ]
  },
  {
   "cell_type": "code",
   "execution_count": 499,
   "id": "1eae7cb5-87b2-405a-a76a-ad44ca4492d0",
   "metadata": {},
   "outputs": [],
   "source": [
    "pc_scores = pca.fit_transform(train_file)"
   ]
  },
  {
   "cell_type": "code",
   "execution_count": 501,
   "id": "561b1c04-ee98-4e5f-8c52-ea16406a8fbf",
   "metadata": {},
   "outputs": [],
   "source": [
    "PC_NUMBERS = np.arange(1, train_file.shape[1]+1)\n",
    "PC_LABELS = ['PC'+str(i) for i in np.arange(1,train_file.shape[1]+1)]"
   ]
  },
  {
   "cell_type": "code",
   "execution_count": 502,
   "id": "207f0552-dda9-4f36-ae94-3d2b37896019",
   "metadata": {},
   "outputs": [],
   "source": [
    "loadings = pd.DataFrame(pca.components_, columns=train_file.columns, index=PC_LABELS)"
   ]
  },
  {
   "cell_type": "code",
   "execution_count": 503,
   "id": "6cffe414",
   "metadata": {},
   "outputs": [
    {
     "data": {
      "text/plain": [
       "0.9283435990628415"
      ]
     },
     "execution_count": 503,
     "metadata": {},
     "output_type": "execute_result"
    }
   ],
   "source": [
    "pca.explained_variance_ratio_[0:40].sum()"
   ]
  },
  {
   "cell_type": "code",
   "execution_count": 504,
   "id": "9183d9c4-0c6f-4e2c-b2a0-7377f8fe21ea",
   "metadata": {},
   "outputs": [],
   "source": [
    "variance_explained = pd.DataFrame(\n",
    "    {\n",
    "        'PC': PC_NUMBERS,\n",
    "        'Proportion': pca.explained_variance_ratio_\n",
    "    }\n",
    ")\n",
    "variance_explained[\"Cumulative\"] = variance_explained.Proportion.cumsum()"
   ]
  },
  {
   "cell_type": "code",
   "execution_count": 505,
   "id": "bb3df23c-7918-4ae2-b8bb-f0d3b8262f61",
   "metadata": {},
   "outputs": [
    {
     "data": {
      "text/plain": [
       "Text(0.5, 1.0, 'Scree Plot')"
      ]
     },
     "execution_count": 505,
     "metadata": {},
     "output_type": "execute_result"
    },
    {
     "data": {
      "image/png": "[encoded data removed]",
      "text/plain": [
       "<Figure size 1600x400 with 1 Axes>"
      ]
     },
     "metadata": {},
     "output_type": "display_data"
    }
   ],
   "source": [
    "plt.figure(figsize=(16, 4))\n",
    "sns.pointplot(\n",
    "    x=\"PC\", y=\"Proportion\",\n",
    "    data=variance_explained\n",
    ").set_title('Scree Plot')"
   ]
  },
  {
   "cell_type": "code",
   "execution_count": 506,
   "id": "096a42bf-2419-4543-86a7-b5c0ccce6156",
   "metadata": {},
   "outputs": [
    {
     "data": {
      "text/plain": [
       "(18478, 76)"
      ]
     },
     "execution_count": 506,
     "metadata": {},
     "output_type": "execute_result"
    }
   ],
   "source": [
    "pc_scores = pd.DataFrame(pc_scores, columns=PC_LABELS)\n",
    "pc_scores.shape"
   ]
  },
  {
   "cell_type": "code",
   "execution_count": 507,
   "id": "582317d7-59bc-4861-ab9e-c835ddb149d4",
   "metadata": {},
   "outputs": [
    {
     "data": {
      "text/plain": [
       "(18478, 6)"
      ]
     },
     "execution_count": 507,
     "metadata": {},
     "output_type": "execute_result"
    }
   ],
   "source": [
    "t = pc_scores.iloc[:, :6]\n",
    "t.shape"
   ]
  },
  {
   "cell_type": "code",
   "execution_count": 508,
   "id": "18b81a9c-6bad-4c90-a03f-9d3d1678252e",
   "metadata": {
    "tags": []
   },
   "outputs": [],
   "source": [
    "X_train, X_test, y_train, y_test = train_test_split(t, y, train_size=0.7, random_state = 42)"
   ]
  },
  {
   "cell_type": "code",
   "execution_count": 509,
   "id": "9c8126bf-98ef-4231-8b12-6e57d15562af",
   "metadata": {},
   "outputs": [],
   "source": [
    "y_train = y_train.astype('int', copy=True)"
   ]
  },
  {
   "cell_type": "code",
   "execution_count": 510,
   "id": "f8a4df0f-4f80-4c86-bc3f-0f4f0730dc1c",
   "metadata": {},
   "outputs": [],
   "source": [
    "lab = preprocessing.LabelEncoder()\n",
    "y_transformed = lab.fit_transform(y_train)"
   ]
  },
  {
   "cell_type": "code",
   "execution_count": 511,
   "id": "d2f1da02-b801-4610-b6e4-26e141ab7ce2",
   "metadata": {},
   "outputs": [],
   "source": [
    "lab = preprocessing.LabelEncoder()\n",
    "y_test_transformed = lab.fit_transform(y_test)"
   ]
  },
  {
   "cell_type": "code",
   "execution_count": 512,
   "id": "0d6b14b4-2c94-42d1-80a5-3b5c514a0371",
   "metadata": {},
   "outputs": [],
   "source": [
    "model2 = LogisticRegression(multi_class='multinomial', solver='newton-cg', max_iter=1000, penalty='l2').fit(X_train, y_train)"
   ]
  },
  {
   "cell_type": "code",
   "execution_count": 513,
   "id": "f92015f9-94fc-4acc-a801-94eff9e19135",
   "metadata": {},
   "outputs": [],
   "source": [
    "y_pred = model2.predict(X_test)"
   ]
  },
  {
   "cell_type": "code",
   "execution_count": 514,
   "id": "07e18893-df25-4915-98c4-a212e77156e9",
   "metadata": {},
   "outputs": [],
   "source": [
    "lab = preprocessing.LabelEncoder()\n",
    "y_pred_transformed = lab.fit_transform(y_pred)"
   ]
  },
  {
   "cell_type": "code",
   "execution_count": 515,
   "id": "84d7a253-0445-49a5-9639-fd951ac2a6d8",
   "metadata": {},
   "outputs": [
    {
     "data": {
      "text/plain": [
       "0.23773448773448774"
      ]
     },
     "execution_count": 515,
     "metadata": {},
     "output_type": "execute_result"
    }
   ],
   "source": [
    "accuracy = accuracy_score(y_test_transformed, y_pred_transformed)"
   ]
  },
  {
   "cell_type": "code",
   "execution_count": 516,
   "id": "0ad7535a-2f9d-4aab-b282-f99c653649de",
   "metadata": {},
   "outputs": [],
   "source": [
    "proba = model2.predict_proba(X_test)"
   ]
  },
  {
   "cell_type": "markdown",
   "id": "6d8a2989",
   "metadata": {},
   "source": [
    "# Testfile"
   ]
  },
  {
   "cell_type": "code",
   "execution_count": 518,
   "id": "00f15e27",
   "metadata": {},
   "outputs": [],
   "source": [
    "clean_test = pd.read_csv('test_cleaned.csv')"
   ]
  },
  {
   "cell_type": "code",
   "execution_count": 519,
   "id": "6affceb9",
   "metadata": {},
   "outputs": [],
   "source": [
    "clean_dummy = pd.get_dummies(clean_test, columns = ['age_group', 'travel_with', 'purpose', 'main_activity', 'info_source', 'tour_arrangement', 'continent'])"
   ]
  },
  {
   "cell_type": "code",
   "execution_count": 520,
   "id": "13f59817",
   "metadata": {},
   "outputs": [],
   "source": [
    "clean_dummy.drop(columns='country', inplace=True)"
   ]
  },
  {
   "cell_type": "code",
   "execution_count": 521,
   "id": "b390a248",
   "metadata": {},
   "outputs": [],
   "source": [
    "clean_test.drop(columns = ['country', 'age_group', 'travel_with', 'purpose', 'main_activity', 'info_source', 'tour_arrangement', 'continent'], axis = 0, inplace = True)"
   ]
  },
  {
   "cell_type": "code",
   "execution_count": 522,
   "id": "4ed9d0f8",
   "metadata": {},
   "outputs": [],
   "source": [
    "clean_test = pd.concat([clean_test, clean_dummy], axis=1)"
   ]
  },
  {
   "cell_type": "code",
   "execution_count": 523,
   "id": "cce856f9",
   "metadata": {},
   "outputs": [
    {
     "data": {
      "text/plain": [
       "(6169, 78)"
      ]
     },
     "execution_count": 523,
     "metadata": {},
     "output_type": "execute_result"
    }
   ],
   "source": [
    "clean_test.shape"
   ]
  },
  {
   "cell_type": "code",
   "execution_count": 524,
   "id": "a407214f",
   "metadata": {},
   "outputs": [],
   "source": [
    "clean_test = clean_test.T.drop_duplicates().T"
   ]
  },
  {
   "cell_type": "code",
   "execution_count": 525,
   "id": "e5cac60e",
   "metadata": {},
   "outputs": [],
   "source": [
    "clean_test.set_index('Tour_ID', inplace=True)"
   ]
  },
  {
   "cell_type": "code",
   "execution_count": 526,
   "id": "acfd7e29",
   "metadata": {},
   "outputs": [],
   "source": [
    "clean_test = pd.DataFrame(scaler.fit_transform(clean_test), columns=clean_test.columns)"
   ]
  },
  {
   "cell_type": "code",
   "execution_count": 527,
   "id": "f84959d5",
   "metadata": {},
   "outputs": [],
   "source": [
    "pc_scores2 = pca.fit_transform(clean_test)"
   ]
  },
  {
   "cell_type": "code",
   "execution_count": 528,
   "id": "b3678fbf",
   "metadata": {},
   "outputs": [],
   "source": [
    "PC_NUMBERS2 = np.arange(1, clean_test.shape[1]+1)\n",
    "PC_LABELS2 = ['PC'+str(i) for i in np.arange(1,clean_test.shape[1]+1)]"
   ]
  },
  {
   "cell_type": "code",
   "execution_count": 529,
   "id": "238c41af",
   "metadata": {},
   "outputs": [],
   "source": [
    "loadings = pd.DataFrame(pca.components_, columns=clean_test.columns, index=PC_LABELS2)"
   ]
  },
  {
   "cell_type": "code",
   "execution_count": 530,
   "id": "dd0c486c",
   "metadata": {},
   "outputs": [
    {
     "data": {
      "text/plain": [
       "array([1.66244214e-01, 5.03385512e-02, 4.01181178e-02, 3.65744148e-02,\n",
       "       2.94010371e-02, 2.75158116e-02, 2.72149074e-02, 2.54032852e-02,\n",
       "       2.31473289e-02, 2.14255665e-02, 2.08578134e-02, 1.92331431e-02,\n",
       "       1.90296917e-02, 1.85007597e-02, 1.83601110e-02, 1.79365666e-02,\n",
       "       1.77941808e-02, 1.74691339e-02, 1.73041034e-02, 1.72429572e-02,\n",
       "       1.69788571e-02, 1.69340743e-02, 1.67450086e-02, 1.66259726e-02,\n",
       "       1.63543660e-02, 1.62275499e-02, 1.61062065e-02, 1.59217896e-02,\n",
       "       1.58166300e-02, 1.55990897e-02, 1.54292668e-02, 1.52531059e-02,\n",
       "       1.45822420e-02, 1.42861829e-02, 1.38570225e-02, 1.33393698e-02,\n",
       "       1.25944824e-02, 1.21530076e-02, 1.17568919e-02, 1.11709813e-02,\n",
       "       1.02274606e-02, 9.94365858e-03, 9.65925020e-03, 8.60672527e-03,\n",
       "       8.00236090e-03, 7.56328818e-03, 5.62620437e-03, 4.25977201e-03,\n",
       "       3.71180934e-03, 2.47661796e-03, 1.07906024e-03, 3.55017486e-32,\n",
       "       6.04868875e-33, 2.59997968e-33, 2.15911552e-33, 1.63484007e-33,\n",
       "       1.18661030e-33, 6.60828271e-34, 4.88341295e-34, 4.03758209e-34,\n",
       "       9.35379343e-35])"
      ]
     },
     "execution_count": 530,
     "metadata": {},
     "output_type": "execute_result"
    }
   ],
   "source": [
    "pca.explained_variance_ratio_"
   ]
  },
  {
   "cell_type": "code",
   "execution_count": 531,
   "id": "5a4a9f4f",
   "metadata": {},
   "outputs": [],
   "source": [
    "variance_explained2 = pd.DataFrame(\n",
    "    {\n",
    "        'PC': PC_NUMBERS2,\n",
    "        'Proportion': pca.explained_variance_ratio_\n",
    "    }\n",
    ")\n",
    "variance_explained2[\"Cumulative\"] = variance_explained2.Proportion.cumsum()"
   ]
  },
  {
   "cell_type": "code",
   "execution_count": 532,
   "id": "8dd60bad",
   "metadata": {},
   "outputs": [
    {
     "data": {
      "text/plain": [
       "Text(0.5, 1.0, 'Scree Plot')"
      ]
     },
     "execution_count": 532,
     "metadata": {},
     "output_type": "execute_result"
    },
    {
     "data": {
      "image/png": "[encoded data removed]",
      "text/plain": [
       "<Figure size 1600x400 with 1 Axes>"
      ]
     },
     "metadata": {},
     "output_type": "display_data"
    }
   ],
   "source": [
    "plt.figure(figsize=(16, 4))\n",
    "sns.pointplot(\n",
    "    x=\"PC\", y=\"Proportion\",\n",
    "    data=variance_explained2\n",
    ").set_title('Scree Plot')"
   ]
  },
  {
   "cell_type": "code",
   "execution_count": 533,
   "id": "63f68db7",
   "metadata": {},
   "outputs": [],
   "source": [
    "pc_scores2 = pd.DataFrame(pc_scores2, columns=PC_LABELS2)"
   ]
  },
  {
   "cell_type": "code",
   "execution_count": 534,
   "id": "59985e1b",
   "metadata": {},
   "outputs": [],
   "source": [
    "t2 = pc_scores2.iloc[:, :6]"
   ]
  },
  {
   "cell_type": "code",
   "execution_count": 535,
   "id": "053425f4",
   "metadata": {},
   "outputs": [],
   "source": [
    "test_pred = model2.predict(t2)"
   ]
  },
  {
   "cell_type": "code",
   "execution_count": 536,
   "id": "c9deb184",
   "metadata": {},
   "outputs": [],
   "source": [
    "proba2 = model2.predict_proba(t2)"
   ]
  },
  {
   "cell_type": "code",
   "execution_count": 537,
   "id": "0cbd6b46",
   "metadata": {},
   "outputs": [],
   "source": [
    "arr2 = np.asarray(proba2)\n",
    "table2 = pd.DataFrame(arr2)"
   ]
  },
  {
   "cell_type": "code",
   "execution_count": 538,
   "id": "3bbf4433",
   "metadata": {},
   "outputs": [],
   "source": [
    "table2.rename(columns = {0 : 'Lower Cost', 1 : 'Low Cost', 2 : 'Normal Cost', 3: 'High Cost', 4: 'Higher Cost', 5 : 'Highest Cost'}, inplace=True)"
   ]
  },
  {
   "cell_type": "code",
   "execution_count": 539,
   "id": "0fa3d359",
   "metadata": {},
   "outputs": [],
   "source": [
    "tour_column = pd.read_csv('test_cleaned.csv')"
   ]
  },
  {
   "cell_type": "code",
   "execution_count": 540,
   "id": "21f79c5d",
   "metadata": {},
   "outputs": [],
   "source": [
    "final = tour_column['Tour_ID']"
   ]
  },
  {
   "cell_type": "code",
   "execution_count": 541,
   "id": "94f8942f",
   "metadata": {},
   "outputs": [],
   "source": [
    "prob_final = pd.concat([final, table2], axis=1)"
   ]
  },
  {
   "cell_type": "code",
   "execution_count": 542,
   "id": "4453a600",
   "metadata": {},
   "outputs": [],
   "source": [
    "prob_final.to_csv(\"c\\local_disk\\class_project\\submissionFile19.csv\", index=False)"
   ]
  },
  {
   "cell_type": "markdown",
   "id": "fb1cd302",
   "metadata": {},
   "source": [
    "# model 3 (multi logistic)"
   ]
  },
  {
   "cell_type": "code",
   "execution_count": 564,
   "id": "72a987ef",
   "metadata": {},
   "outputs": [],
   "source": [
    "new_features = pc_scores.iloc[:,:8]"
   ]
  },
  {
   "cell_type": "code",
   "execution_count": 565,
   "id": "0aa835d4",
   "metadata": {},
   "outputs": [
    {
     "data": {
      "text/plain": [
       "0        0.422404\n",
       "1        0.422404\n",
       "2        1.150430\n",
       "3       -1.761677\n",
       "4        1.150430\n",
       "           ...   \n",
       "18473   -1.761677\n",
       "18474   -1.761677\n",
       "18475    1.150430\n",
       "18476    1.150430\n",
       "18477   -1.033650\n",
       "Name: cost_category, Length: 18478, dtype: float64"
      ]
     },
     "execution_count": 565,
     "metadata": {},
     "output_type": "execute_result"
    }
   ],
   "source": [
    "z = train_file['cost_category']\n",
    "z"
   ]
  },
  {
   "cell_type": "code",
   "execution_count": 566,
   "id": "9fdcaf05",
   "metadata": {},
   "outputs": [],
   "source": [
    "X_train, X_test, y_train, y_test = train_test_split(new_features, z, test_size=0.2, random_state=12345)"
   ]
  },
  {
   "cell_type": "code",
   "execution_count": 579,
   "id": "f9ccfb1a",
   "metadata": {},
   "outputs": [
    {
     "data": {
      "text/html": [
       "<div>\n",
       "<style scoped>\n",
       "    .dataframe tbody tr th:only-of-type {\n",
       "        vertical-align: middle;\n",
       "    }\n",
       "\n",
       "    .dataframe tbody tr th {\n",
       "        vertical-align: top;\n",
       "    }\n",
       "\n",
       "    .dataframe thead th {\n",
       "        text-align: right;\n",
       "    }\n",
       "</style>\n",
       "<table border=\"1\" class=\"dataframe\">\n",
       "  <thead>\n",
       "    <tr style=\"text-align: right;\">\n",
       "      <th></th>\n",
       "      <th>PC1</th>\n",
       "      <th>PC2</th>\n",
       "      <th>PC3</th>\n",
       "      <th>PC4</th>\n",
       "      <th>PC5</th>\n",
       "      <th>PC6</th>\n",
       "      <th>PC7</th>\n",
       "      <th>PC8</th>\n",
       "    </tr>\n",
       "  </thead>\n",
       "  <tbody>\n",
       "    <tr>\n",
       "      <th>9204</th>\n",
       "      <td>2.464926</td>\n",
       "      <td>0.887922</td>\n",
       "      <td>1.023403</td>\n",
       "      <td>1.414596</td>\n",
       "      <td>-0.777074</td>\n",
       "      <td>0.136765</td>\n",
       "      <td>1.088588</td>\n",
       "      <td>-1.378286</td>\n",
       "    </tr>\n",
       "    <tr>\n",
       "      <th>12691</th>\n",
       "      <td>-4.237543</td>\n",
       "      <td>-0.914815</td>\n",
       "      <td>-0.618420</td>\n",
       "      <td>-0.711080</td>\n",
       "      <td>-0.204918</td>\n",
       "      <td>0.496491</td>\n",
       "      <td>0.709631</td>\n",
       "      <td>-1.992493</td>\n",
       "    </tr>\n",
       "    <tr>\n",
       "      <th>2524</th>\n",
       "      <td>-4.383663</td>\n",
       "      <td>-1.717250</td>\n",
       "      <td>-1.291991</td>\n",
       "      <td>-1.667091</td>\n",
       "      <td>0.498455</td>\n",
       "      <td>1.779763</td>\n",
       "      <td>0.037628</td>\n",
       "      <td>1.014670</td>\n",
       "    </tr>\n",
       "    <tr>\n",
       "      <th>6525</th>\n",
       "      <td>1.996955</td>\n",
       "      <td>-0.382229</td>\n",
       "      <td>-0.145228</td>\n",
       "      <td>-1.060492</td>\n",
       "      <td>-1.714579</td>\n",
       "      <td>2.251988</td>\n",
       "      <td>-0.723580</td>\n",
       "      <td>-0.481906</td>\n",
       "    </tr>\n",
       "    <tr>\n",
       "      <th>349</th>\n",
       "      <td>5.485896</td>\n",
       "      <td>-2.842185</td>\n",
       "      <td>0.769156</td>\n",
       "      <td>-1.721394</td>\n",
       "      <td>1.163732</td>\n",
       "      <td>0.616161</td>\n",
       "      <td>-0.312008</td>\n",
       "      <td>0.027038</td>\n",
       "    </tr>\n",
       "    <tr>\n",
       "      <th>...</th>\n",
       "      <td>...</td>\n",
       "      <td>...</td>\n",
       "      <td>...</td>\n",
       "      <td>...</td>\n",
       "      <td>...</td>\n",
       "      <td>...</td>\n",
       "      <td>...</td>\n",
       "      <td>...</td>\n",
       "    </tr>\n",
       "    <tr>\n",
       "      <th>16930</th>\n",
       "      <td>4.095180</td>\n",
       "      <td>0.255876</td>\n",
       "      <td>-0.006171</td>\n",
       "      <td>3.620939</td>\n",
       "      <td>0.053911</td>\n",
       "      <td>-0.707741</td>\n",
       "      <td>-0.224227</td>\n",
       "      <td>0.104054</td>\n",
       "    </tr>\n",
       "    <tr>\n",
       "      <th>4094</th>\n",
       "      <td>5.313931</td>\n",
       "      <td>-0.412487</td>\n",
       "      <td>0.617721</td>\n",
       "      <td>-1.257035</td>\n",
       "      <td>-0.980720</td>\n",
       "      <td>0.876636</td>\n",
       "      <td>-0.277245</td>\n",
       "      <td>-1.018489</td>\n",
       "    </tr>\n",
       "    <tr>\n",
       "      <th>11689</th>\n",
       "      <td>-4.151161</td>\n",
       "      <td>-1.192156</td>\n",
       "      <td>-0.594215</td>\n",
       "      <td>-0.840794</td>\n",
       "      <td>-0.715178</td>\n",
       "      <td>-0.202257</td>\n",
       "      <td>0.969948</td>\n",
       "      <td>2.029100</td>\n",
       "    </tr>\n",
       "    <tr>\n",
       "      <th>2177</th>\n",
       "      <td>-5.127946</td>\n",
       "      <td>-1.538364</td>\n",
       "      <td>-2.204103</td>\n",
       "      <td>-0.837317</td>\n",
       "      <td>1.099076</td>\n",
       "      <td>-0.917722</td>\n",
       "      <td>1.752093</td>\n",
       "      <td>0.371505</td>\n",
       "    </tr>\n",
       "    <tr>\n",
       "      <th>11749</th>\n",
       "      <td>4.532606</td>\n",
       "      <td>2.194098</td>\n",
       "      <td>-0.819929</td>\n",
       "      <td>4.077260</td>\n",
       "      <td>2.835331</td>\n",
       "      <td>1.055028</td>\n",
       "      <td>0.674478</td>\n",
       "      <td>-0.733331</td>\n",
       "    </tr>\n",
       "  </tbody>\n",
       "</table>\n",
       "<p>14782 rows × 8 columns</p>\n",
       "</div>"
      ],
      "text/plain": [
       "            PC1       PC2       PC3       PC4       PC5       PC6       PC7  \\\n",
       "9204   2.464926  0.887922  1.023403  1.414596 -0.777074  0.136765  1.088588   \n",
       "12691 -4.237543 -0.914815 -0.618420 -0.711080 -0.204918  0.496491  0.709631   \n",
       "2524  -4.383663 -1.717250 -1.291991 -1.667091  0.498455  1.779763  0.037628   \n",
       "6525   1.996955 -0.382229 -0.145228 -1.060492 -1.714579  2.251988 -0.723580   \n",
       "349    5.485896 -2.842185  0.769156 -1.721394  1.163732  0.616161 -0.312008   \n",
       "...         ...       ...       ...       ...       ...       ...       ...   \n",
       "16930  4.095180  0.255876 -0.006171  3.620939  0.053911 -0.707741 -0.224227   \n",
       "4094   5.313931 -0.412487  0.617721 -1.257035 -0.980720  0.876636 -0.277245   \n",
       "11689 -4.151161 -1.192156 -0.594215 -0.840794 -0.715178 -0.202257  0.969948   \n",
       "2177  -5.127946 -1.538364 -2.204103 -0.837317  1.099076 -0.917722  1.752093   \n",
       "11749  4.532606  2.194098 -0.819929  4.077260  2.835331  1.055028  0.674478   \n",
       "\n",
       "            PC8  \n",
       "9204  -1.378286  \n",
       "12691 -1.992493  \n",
       "2524   1.014670  \n",
       "6525  -0.481906  \n",
       "349    0.027038  \n",
       "...         ...  \n",
       "16930  0.104054  \n",
       "4094  -1.018489  \n",
       "11689  2.029100  \n",
       "2177   0.371505  \n",
       "11749 -0.733331  \n",
       "\n",
       "[14782 rows x 8 columns]"
      ]
     },
     "execution_count": 579,
     "metadata": {},
     "output_type": "execute_result"
    }
   ],
   "source": [
    "X_train"
   ]
  },
  {
   "cell_type": "code",
   "execution_count": 569,
   "id": "0867ce02",
   "metadata": {},
   "outputs": [
    {
     "data": {
      "text/plain": [
       "(3696, 8)"
      ]
     },
     "execution_count": 569,
     "metadata": {},
     "output_type": "execute_result"
    }
   ],
   "source": [
    "X_test.shape"
   ]
  },
  {
   "cell_type": "code",
   "execution_count": 581,
   "id": "2b447b2b",
   "metadata": {},
   "outputs": [],
   "source": [
    "y_train = y_train.to_numpy()"
   ]
  },
  {
   "cell_type": "code",
   "execution_count": 575,
   "id": "a76044d4",
   "metadata": {},
   "outputs": [],
   "source": [
    "clf = LogisticRegression(penalty='none', max_iter=1000)"
   ]
  },
  {
   "cell_type": "code",
   "execution_count": 583,
   "id": "80ed5800",
   "metadata": {},
   "outputs": [
    {
     "name": "stderr",
     "output_type": "stream",
     "text": [
      "/Users/jordankavishe/anaconda3/envs/ixperience/lib/python3.11/site-packages/sklearn/linear_model/_logistic.py:1173: FutureWarning: `penalty='none'`has been deprecated in 1.2 and will be removed in 1.4. To keep the past behaviour, set `penalty=None`.\n",
      "  warnings.warn(\n"
     ]
    },
    {
     "ename": "ValueError",
     "evalue": "This solver needs samples of at least 2 classes in the data, but the data contains only one class: 0",
     "output_type": "error",
     "traceback": [
      "\u001b[0;31m---------------------------------------------------------------------------\u001b[0m",
      "\u001b[0;31mValueError\u001b[0m                                Traceback (most recent call last)",
      "Cell \u001b[0;32mIn[583], line 5\u001b[0m\n\u001b[1;32m      3\u001b[0m \u001b[39mfor\u001b[39;00m number \u001b[39min\u001b[39;00m \u001b[39mrange\u001b[39m(\u001b[39m10\u001b[39m):\n\u001b[1;32m      4\u001b[0m     y \u001b[39m=\u001b[39m \u001b[39m1\u001b[39m\u001b[39m*\u001b[39m(y_train\u001b[39m==\u001b[39mnumber) \u001b[39m# create binary outcome\u001b[39;00m\n\u001b[0;32m----> 5\u001b[0m     clf\u001b[39m.\u001b[39;49mfit(X\u001b[39m=\u001b[39;49mX_train, y\u001b[39m=\u001b[39;49my) \u001b[39m# fit the classifier on TRAINING SET\u001b[39;00m\n\u001b[1;32m      6\u001b[0m     probs[\u001b[39mstr\u001b[39m(number)] \u001b[39m=\u001b[39m clf\u001b[39m.\u001b[39mpredict_proba(X_test)[:,\u001b[39m1\u001b[39m] \u001b[39m# get the estimated probabilities on TEST SET\u001b[39;00m\n\u001b[1;32m      8\u001b[0m probs\u001b[39m.\u001b[39mhead()\n",
      "File \u001b[0;32m~/anaconda3/envs/ixperience/lib/python3.11/site-packages/sklearn/linear_model/_logistic.py:1241\u001b[0m, in \u001b[0;36mLogisticRegression.fit\u001b[0;34m(self, X, y, sample_weight)\u001b[0m\n\u001b[1;32m   1239\u001b[0m classes_ \u001b[39m=\u001b[39m \u001b[39mself\u001b[39m\u001b[39m.\u001b[39mclasses_\n\u001b[1;32m   1240\u001b[0m \u001b[39mif\u001b[39;00m n_classes \u001b[39m<\u001b[39m \u001b[39m2\u001b[39m:\n\u001b[0;32m-> 1241\u001b[0m     \u001b[39mraise\u001b[39;00m \u001b[39mValueError\u001b[39;00m(\n\u001b[1;32m   1242\u001b[0m         \u001b[39m\"\u001b[39m\u001b[39mThis solver needs samples of at least 2 classes\u001b[39m\u001b[39m\"\u001b[39m\n\u001b[1;32m   1243\u001b[0m         \u001b[39m\"\u001b[39m\u001b[39m in the data, but the data contains only one\u001b[39m\u001b[39m\"\u001b[39m\n\u001b[1;32m   1244\u001b[0m         \u001b[39m\"\u001b[39m\u001b[39m class: \u001b[39m\u001b[39m%r\u001b[39;00m\u001b[39m\"\u001b[39m\n\u001b[1;32m   1245\u001b[0m         \u001b[39m%\u001b[39m classes_[\u001b[39m0\u001b[39m]\n\u001b[1;32m   1246\u001b[0m     )\n\u001b[1;32m   1248\u001b[0m \u001b[39mif\u001b[39;00m \u001b[39mlen\u001b[39m(\u001b[39mself\u001b[39m\u001b[39m.\u001b[39mclasses_) \u001b[39m==\u001b[39m \u001b[39m2\u001b[39m:\n\u001b[1;32m   1249\u001b[0m     n_classes \u001b[39m=\u001b[39m \u001b[39m1\u001b[39m\n",
      "\u001b[0;31mValueError\u001b[0m: This solver needs samples of at least 2 classes in the data, but the data contains only one class: 0"
     ]
    }
   ],
   "source": [
    "probs = pd.DataFrame()\n",
    "\n",
    "for number in range(10):\n",
    "    y = 1*(y_train==number) # create binary outcome\n",
    "    clf.fit(X=X_train, y=y) # fit the classifier on TRAINING SET\n",
    "    probs[str(number)] = clf.predict_proba(X_test)[:,1] # get the estimated probabilities on TEST SET\n",
    "\n",
    "probs.head()"
   ]
  },
  {
   "cell_type": "markdown",
   "id": "d347399c",
   "metadata": {},
   "source": []
  }
 ],
 "metadata": {
  "kernelspec": {
   "display_name": "Python 3 (ipykernel)",
   "language": "python",
   "name": "python3"
  },
  "language_info": {
   "codemirror_mode": {
    "name": "ipython",
    "version": 3
   },
   "file_extension": ".py",
   "mimetype": "text/x-python",
   "name": "python",
   "nbconvert_exporter": "python",
   "pygments_lexer": "ipython3",
   "version": "3.11.4"
  }
 },
 "nbformat": 4,
 "nbformat_minor": 5
}
