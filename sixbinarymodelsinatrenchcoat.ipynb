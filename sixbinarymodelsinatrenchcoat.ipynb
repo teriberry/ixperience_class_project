{
 "cells": [
  {
   "cell_type": "code",
   "execution_count": 2,
   "id": "6c5a6bc0",
   "metadata": {},
   "outputs": [],
   "source": [
    "import pandas as pd\n",
    "import seaborn as sns\n",
    "import numpy as np\n",
    "from sklearn.linear_model import LinearRegression, LogisticRegression\n",
    "from sklearn.model_selection import train_test_split\n",
    "from sklearn.metrics import accuracy_score\n",
    "from sklearn.tree import DecisionTreeClassifier\n",
    "\n",
    "train_file = pd.read_csv('train_file_clean.csv')\n",
    "test_file = pd.read_csv('test_cleaned.csv')"
   ]
  },
  {
   "cell_type": "code",
   "execution_count": 3,
   "id": "9443eab7",
   "metadata": {},
   "outputs": [
    {
     "data": {
      "text/plain": [
       "Tour_ID                  0\n",
       "country                  0\n",
       "age_group                0\n",
       "travel_with              0\n",
       "total_female             0\n",
       "total_male               0\n",
       "purpose                  0\n",
       "main_activity            0\n",
       "info_source              0\n",
       "tour_arrangement         0\n",
       "package_transport_int    0\n",
       "package_accomodation     0\n",
       "package_food             0\n",
       "package_transport_tz     0\n",
       "package_sightseeing      0\n",
       "package_guided_tour      0\n",
       "package_insurance        0\n",
       "night_mainland           0\n",
       "night_zanzibar           0\n",
       "first_trip_tz            0\n",
       "cost_category            0\n",
       "total_packages           0\n",
       "total_people             0\n",
       "total_days               0\n",
       "continent                0\n",
       "dtype: int64"
      ]
     },
     "execution_count": 3,
     "metadata": {},
     "output_type": "execute_result"
    }
   ],
   "source": [
    "train_file=train_file.drop(['Unnamed: 0'],axis=1)\n",
    "train_file=train_file.dropna()\n",
    "train_file.isnull().sum()"
   ]
  },
  {
   "cell_type": "code",
   "execution_count": 15,
   "id": "25159da3",
   "metadata": {},
   "outputs": [],
   "source": [
    "dummies=pd.get_dummies(train_file.drop(['country','Tour_ID'],axis=1))\n",
    "dropped_test=pd.get_dummies(test_file.drop(['country','Tour_ID'],axis=1)).drop(['continent_0'],axis=1)\n",
    "dummiestest=dummies"
   ]
  },
  {
   "cell_type": "code",
   "execution_count": 5,
   "id": "2029d0d7",
   "metadata": {},
   "outputs": [
    {
     "name": "stderr",
     "output_type": "stream",
     "text": [
      "C:\\Users\\willi\\anaconda3\\lib\\site-packages\\sklearn\\linear_model\\_logistic.py:458: ConvergenceWarning: lbfgs failed to converge (status=1):\n",
      "STOP: TOTAL NO. of ITERATIONS REACHED LIMIT.\n",
      "\n",
      "Increase the number of iterations (max_iter) or scale the data as shown in:\n",
      "    https://scikit-learn.org/stable/modules/preprocessing.html\n",
      "Please also refer to the documentation for alternative solver options:\n",
      "    https://scikit-learn.org/stable/modules/linear_model.html#logistic-regression\n",
      "  n_iter_i = _check_optimize_result(\n"
     ]
    }
   ],
   "source": [
    "dummiestest['cost_category']=dummies['cost_category'].replace([1,2,3,4,5],0)\n",
    "dummiestest['cost_category']=dummies['cost_category'].replace(6,1)\n",
    "\n",
    "model=LogisticRegression()\n",
    "\n",
    "X_train, X_test, Y_train, Y_test = train_test_split(dummies.drop(['cost_category'],axis=1),\n",
    "                                                    dummies['cost_category'],\n",
    "                                                    random_state=42)\n",
    "\n",
    "model.fit(X_train, Y_train)\n",
    "highest_probas=model.predict_proba(dropped_test)\n"
   ]
  },
  {
   "cell_type": "code",
   "execution_count": 8,
   "id": "a077320f",
   "metadata": {},
   "outputs": [
    {
     "name": "stderr",
     "output_type": "stream",
     "text": [
      "C:\\Users\\willi\\anaconda3\\lib\\site-packages\\sklearn\\linear_model\\_logistic.py:458: ConvergenceWarning: lbfgs failed to converge (status=1):\n",
      "STOP: TOTAL NO. of ITERATIONS REACHED LIMIT.\n",
      "\n",
      "Increase the number of iterations (max_iter) or scale the data as shown in:\n",
      "    https://scikit-learn.org/stable/modules/preprocessing.html\n",
      "Please also refer to the documentation for alternative solver options:\n",
      "    https://scikit-learn.org/stable/modules/linear_model.html#logistic-regression\n",
      "  n_iter_i = _check_optimize_result(\n"
     ]
    }
   ],
   "source": [
    "dummiestest['cost_category']=dummies['cost_category'].replace([1,2,3,4,6],0)\n",
    "dummiestest['cost_category']=dummies['cost_category'].replace(5,1)\n",
    "\n",
    "X_train, X_test, Y_train, Y_test = train_test_split(dummiestest.drop(['cost_category'],axis=1),\n",
    "                                                    dummiestest['cost_category'],\n",
    "                                                    random_state=42)\n",
    "model.fit(X_train, Y_train)\n",
    "higher_probas=model.predict_proba(dropped_test)"
   ]
  },
  {
   "cell_type": "code",
   "execution_count": 10,
   "id": "d67d6d2b",
   "metadata": {},
   "outputs": [
    {
     "name": "stderr",
     "output_type": "stream",
     "text": [
      "C:\\Users\\willi\\anaconda3\\lib\\site-packages\\sklearn\\linear_model\\_logistic.py:458: ConvergenceWarning: lbfgs failed to converge (status=1):\n",
      "STOP: TOTAL NO. of ITERATIONS REACHED LIMIT.\n",
      "\n",
      "Increase the number of iterations (max_iter) or scale the data as shown in:\n",
      "    https://scikit-learn.org/stable/modules/preprocessing.html\n",
      "Please also refer to the documentation for alternative solver options:\n",
      "    https://scikit-learn.org/stable/modules/linear_model.html#logistic-regression\n",
      "  n_iter_i = _check_optimize_result(\n"
     ]
    }
   ],
   "source": [
    "dummiestest['cost_category']=dummies['cost_category'].replace([1,2,3,5,6],0)\n",
    "dummiestest['cost_category']=dummies['cost_category'].replace(4,1)\n",
    "\n",
    "X_train, X_test, Y_train, Y_test = train_test_split(dummiestest.drop(['cost_category'],axis=1),\n",
    "                                                    dummiestest['cost_category'],\n",
    "                                                    random_state=42)\n",
    "\n",
    "model.fit(X_train, Y_train)\n",
    "high_probas=model.predict_proba(dropped_test)"
   ]
  },
  {
   "cell_type": "code",
   "execution_count": 12,
   "id": "6fef0fea",
   "metadata": {},
   "outputs": [
    {
     "name": "stderr",
     "output_type": "stream",
     "text": [
      "C:\\Users\\willi\\anaconda3\\lib\\site-packages\\sklearn\\linear_model\\_logistic.py:458: ConvergenceWarning: lbfgs failed to converge (status=1):\n",
      "STOP: TOTAL NO. of ITERATIONS REACHED LIMIT.\n",
      "\n",
      "Increase the number of iterations (max_iter) or scale the data as shown in:\n",
      "    https://scikit-learn.org/stable/modules/preprocessing.html\n",
      "Please also refer to the documentation for alternative solver options:\n",
      "    https://scikit-learn.org/stable/modules/linear_model.html#logistic-regression\n",
      "  n_iter_i = _check_optimize_result(\n"
     ]
    }
   ],
   "source": [
    "dummiestest['cost_category']=dummies['cost_category'].replace([1,2,4,5,6],0)\n",
    "dummiestest['cost_category']=dummies['cost_category'].replace(3,1)\n",
    "\n",
    "X_train, X_test, Y_train, Y_test = train_test_split(dummiestest.drop(['cost_category'],axis=1),\n",
    "                                                    dummiestest['cost_category'],\n",
    "                                                    random_state=42)\n",
    "\n",
    "model.fit(X_train, Y_train)\n",
    "normal_probas=model.predict_proba(dropped_test)"
   ]
  },
  {
   "cell_type": "code",
   "execution_count": 14,
   "id": "350e511b",
   "metadata": {},
   "outputs": [
    {
     "name": "stderr",
     "output_type": "stream",
     "text": [
      "C:\\Users\\willi\\anaconda3\\lib\\site-packages\\sklearn\\linear_model\\_logistic.py:458: ConvergenceWarning: lbfgs failed to converge (status=1):\n",
      "STOP: TOTAL NO. of ITERATIONS REACHED LIMIT.\n",
      "\n",
      "Increase the number of iterations (max_iter) or scale the data as shown in:\n",
      "    https://scikit-learn.org/stable/modules/preprocessing.html\n",
      "Please also refer to the documentation for alternative solver options:\n",
      "    https://scikit-learn.org/stable/modules/linear_model.html#logistic-regression\n",
      "  n_iter_i = _check_optimize_result(\n"
     ]
    }
   ],
   "source": [
    "dummiestest['cost_category']=dummies['cost_category'].replace([1,3,4,5,6],0)\n",
    "dummiestest['cost_category']=dummies['cost_category'].replace(2,1)\n",
    "\n",
    "X_train, X_test, Y_train, Y_test = train_test_split(dummiestest.drop(['cost_category'],axis=1),\n",
    "                                                    dummiestest['cost_category'],\n",
    "                                                    random_state=42)\n",
    "\n",
    "model.fit(X_train, Y_train)\n",
    "low_probas=model.predict_proba(dropped_test)"
   ]
  },
  {
   "cell_type": "code",
   "execution_count": 16,
   "id": "ee404d99",
   "metadata": {},
   "outputs": [
    {
     "name": "stderr",
     "output_type": "stream",
     "text": [
      "C:\\Users\\willi\\anaconda3\\lib\\site-packages\\sklearn\\linear_model\\_logistic.py:458: ConvergenceWarning: lbfgs failed to converge (status=1):\n",
      "STOP: TOTAL NO. of ITERATIONS REACHED LIMIT.\n",
      "\n",
      "Increase the number of iterations (max_iter) or scale the data as shown in:\n",
      "    https://scikit-learn.org/stable/modules/preprocessing.html\n",
      "Please also refer to the documentation for alternative solver options:\n",
      "    https://scikit-learn.org/stable/modules/linear_model.html#logistic-regression\n",
      "  n_iter_i = _check_optimize_result(\n"
     ]
    }
   ],
   "source": [
    "dummiestest['cost_category']=dummies['cost_category'].replace([2,3,4,5,6],0)\n",
    "\n",
    "X_train, X_test, Y_train, Y_test = train_test_split(dummiestest.drop(['cost_category'],axis=1),\n",
    "                                                    dummiestest['cost_category'],\n",
    "                                                    random_state=42)\n",
    "\n",
    "model.fit(X_train, Y_train)\n",
    "lower_probas=model.predict_proba(dropped_test)"
   ]
  },
  {
   "cell_type": "code",
   "execution_count": 17,
   "id": "11fda99b",
   "metadata": {},
   "outputs": [
    {
     "data": {
      "text/plain": [
       "array([[0.90062669, 0.09937331],\n",
       "       [0.99042416, 0.00957584],\n",
       "       [0.99633887, 0.00366113],\n",
       "       ...,\n",
       "       [0.9805199 , 0.0194801 ],\n",
       "       [0.72838053, 0.27161947],\n",
       "       [0.61801991, 0.38198009]])"
      ]
     },
     "execution_count": 17,
     "metadata": {},
     "output_type": "execute_result"
    }
   ],
   "source": [
    "lower_probas"
   ]
  },
  {
   "cell_type": "code",
   "execution_count": 48,
   "id": "2336fefe",
   "metadata": {},
   "outputs": [
    {
     "data": {
      "text/html": [
       "<div>\n",
       "<style scoped>\n",
       "    .dataframe tbody tr th:only-of-type {\n",
       "        vertical-align: middle;\n",
       "    }\n",
       "\n",
       "    .dataframe tbody tr th {\n",
       "        vertical-align: top;\n",
       "    }\n",
       "\n",
       "    .dataframe thead th {\n",
       "        text-align: right;\n",
       "    }\n",
       "</style>\n",
       "<table border=\"1\" class=\"dataframe\">\n",
       "  <thead>\n",
       "    <tr style=\"text-align: right;\">\n",
       "      <th></th>\n",
       "      <th>High Cost</th>\n",
       "      <th>Higher Cost</th>\n",
       "      <th>Highest Cost</th>\n",
       "      <th>Low Cost</th>\n",
       "      <th>Lower Cost</th>\n",
       "      <th>Normal Cost</th>\n",
       "    </tr>\n",
       "  </thead>\n",
       "  <tbody>\n",
       "    <tr>\n",
       "      <th>0</th>\n",
       "      <td>0.147492</td>\n",
       "      <td>0.035340</td>\n",
       "      <td>0.000150</td>\n",
       "      <td>0.126793</td>\n",
       "      <td>0.099373</td>\n",
       "      <td>0.602504</td>\n",
       "    </tr>\n",
       "    <tr>\n",
       "      <th>1</th>\n",
       "      <td>0.267805</td>\n",
       "      <td>0.673613</td>\n",
       "      <td>0.034215</td>\n",
       "      <td>0.010512</td>\n",
       "      <td>0.009576</td>\n",
       "      <td>0.088725</td>\n",
       "    </tr>\n",
       "    <tr>\n",
       "      <th>2</th>\n",
       "      <td>0.468347</td>\n",
       "      <td>0.315963</td>\n",
       "      <td>0.010304</td>\n",
       "      <td>0.014908</td>\n",
       "      <td>0.003661</td>\n",
       "      <td>0.207088</td>\n",
       "    </tr>\n",
       "    <tr>\n",
       "      <th>3</th>\n",
       "      <td>0.074910</td>\n",
       "      <td>0.010209</td>\n",
       "      <td>0.000508</td>\n",
       "      <td>0.163553</td>\n",
       "      <td>0.374354</td>\n",
       "      <td>0.309915</td>\n",
       "    </tr>\n",
       "    <tr>\n",
       "      <th>4</th>\n",
       "      <td>0.033376</td>\n",
       "      <td>0.010669</td>\n",
       "      <td>0.000374</td>\n",
       "      <td>0.207035</td>\n",
       "      <td>0.385545</td>\n",
       "      <td>0.375761</td>\n",
       "    </tr>\n",
       "    <tr>\n",
       "      <th>...</th>\n",
       "      <td>...</td>\n",
       "      <td>...</td>\n",
       "      <td>...</td>\n",
       "      <td>...</td>\n",
       "      <td>...</td>\n",
       "      <td>...</td>\n",
       "    </tr>\n",
       "    <tr>\n",
       "      <th>6164</th>\n",
       "      <td>0.024433</td>\n",
       "      <td>0.008413</td>\n",
       "      <td>0.000475</td>\n",
       "      <td>0.248429</td>\n",
       "      <td>0.484685</td>\n",
       "      <td>0.353424</td>\n",
       "    </tr>\n",
       "    <tr>\n",
       "      <th>6165</th>\n",
       "      <td>0.046532</td>\n",
       "      <td>0.024695</td>\n",
       "      <td>0.000942</td>\n",
       "      <td>0.119932</td>\n",
       "      <td>0.371028</td>\n",
       "      <td>0.237579</td>\n",
       "    </tr>\n",
       "    <tr>\n",
       "      <th>6166</th>\n",
       "      <td>0.443385</td>\n",
       "      <td>0.151520</td>\n",
       "      <td>0.006838</td>\n",
       "      <td>0.021532</td>\n",
       "      <td>0.019480</td>\n",
       "      <td>0.249506</td>\n",
       "    </tr>\n",
       "    <tr>\n",
       "      <th>6167</th>\n",
       "      <td>0.086219</td>\n",
       "      <td>0.022916</td>\n",
       "      <td>0.000147</td>\n",
       "      <td>0.155476</td>\n",
       "      <td>0.271619</td>\n",
       "      <td>0.453929</td>\n",
       "    </tr>\n",
       "    <tr>\n",
       "      <th>6168</th>\n",
       "      <td>0.019562</td>\n",
       "      <td>0.017001</td>\n",
       "      <td>0.001091</td>\n",
       "      <td>0.233617</td>\n",
       "      <td>0.381980</td>\n",
       "      <td>0.368820</td>\n",
       "    </tr>\n",
       "  </tbody>\n",
       "</table>\n",
       "<p>6169 rows × 6 columns</p>\n",
       "</div>"
      ],
      "text/plain": [
       "      High Cost  Higher Cost  Highest Cost  Low Cost  Lower Cost  Normal Cost\n",
       "0      0.147492     0.035340      0.000150  0.126793    0.099373     0.602504\n",
       "1      0.267805     0.673613      0.034215  0.010512    0.009576     0.088725\n",
       "2      0.468347     0.315963      0.010304  0.014908    0.003661     0.207088\n",
       "3      0.074910     0.010209      0.000508  0.163553    0.374354     0.309915\n",
       "4      0.033376     0.010669      0.000374  0.207035    0.385545     0.375761\n",
       "...         ...          ...           ...       ...         ...          ...\n",
       "6164   0.024433     0.008413      0.000475  0.248429    0.484685     0.353424\n",
       "6165   0.046532     0.024695      0.000942  0.119932    0.371028     0.237579\n",
       "6166   0.443385     0.151520      0.006838  0.021532    0.019480     0.249506\n",
       "6167   0.086219     0.022916      0.000147  0.155476    0.271619     0.453929\n",
       "6168   0.019562     0.017001      0.001091  0.233617    0.381980     0.368820\n",
       "\n",
       "[6169 rows x 6 columns]"
      ]
     },
     "execution_count": 48,
     "metadata": {},
     "output_type": "execute_result"
    }
   ],
   "source": [
    "df = pd.DataFrame(high_probas, columns=['1','High Cost'])\n",
    "predictions_proba = df[['High Cost']]\n",
    "df = pd.DataFrame(higher_probas)\n",
    "predictions_proba.insert(1, 'Higher Cost', df[1])\n",
    "df = pd.DataFrame(highest_probas)\n",
    "predictions_proba.insert(2, 'Highest Cost', df[1])\n",
    "df = pd.DataFrame(low_probas)\n",
    "predictions_proba.insert(3, 'Low Cost', df[1])\n",
    "df = pd.DataFrame(lower_probas)\n",
    "predictions_proba.insert(4, 'Lower Cost', df[1])\n",
    "df = pd.DataFrame(normal_probas)\n",
    "predictions_proba.insert(5, 'Normal Cost', df[1])\n",
    "predictions_proba"
   ]
  },
  {
   "cell_type": "code",
   "execution_count": 50,
   "id": "c4d507b4",
   "metadata": {},
   "outputs": [
    {
     "ename": "ValueError",
     "evalue": "cannot insert Tour_ID, already exists",
     "output_type": "error",
     "traceback": [
      "\u001b[1;31m---------------------------------------------------------------------------\u001b[0m",
      "\u001b[1;31mValueError\u001b[0m                                Traceback (most recent call last)",
      "Cell \u001b[1;32mIn[50], line 1\u001b[0m\n\u001b[1;32m----> 1\u001b[0m \u001b[43mpredictions_proba\u001b[49m\u001b[38;5;241;43m.\u001b[39;49m\u001b[43minsert\u001b[49m\u001b[43m(\u001b[49m\u001b[38;5;241;43m0\u001b[39;49m\u001b[43m,\u001b[49m\u001b[43m \u001b[49m\u001b[38;5;124;43m'\u001b[39;49m\u001b[38;5;124;43mTour_ID\u001b[39;49m\u001b[38;5;124;43m'\u001b[39;49m\u001b[43m,\u001b[49m\u001b[43m \u001b[49m\u001b[43mtest_file\u001b[49m\u001b[43m[\u001b[49m\u001b[38;5;124;43m'\u001b[39;49m\u001b[38;5;124;43mTour_ID\u001b[39;49m\u001b[38;5;124;43m'\u001b[39;49m\u001b[43m]\u001b[49m\u001b[43m)\u001b[49m\n\u001b[0;32m      2\u001b[0m predictions_proba\n",
      "File \u001b[1;32m~\\anaconda3\\lib\\site-packages\\pandas\\core\\frame.py:4817\u001b[0m, in \u001b[0;36mDataFrame.insert\u001b[1;34m(self, loc, column, value, allow_duplicates)\u001b[0m\n\u001b[0;32m   4811\u001b[0m     \u001b[38;5;28;01mraise\u001b[39;00m \u001b[38;5;167;01mValueError\u001b[39;00m(\n\u001b[0;32m   4812\u001b[0m         \u001b[38;5;124m\"\u001b[39m\u001b[38;5;124mCannot specify \u001b[39m\u001b[38;5;124m'\u001b[39m\u001b[38;5;124mallow_duplicates=True\u001b[39m\u001b[38;5;124m'\u001b[39m\u001b[38;5;124m when \u001b[39m\u001b[38;5;124m\"\u001b[39m\n\u001b[0;32m   4813\u001b[0m         \u001b[38;5;124m\"\u001b[39m\u001b[38;5;124m'\u001b[39m\u001b[38;5;124mself.flags.allows_duplicate_labels\u001b[39m\u001b[38;5;124m'\u001b[39m\u001b[38;5;124m is False.\u001b[39m\u001b[38;5;124m\"\u001b[39m\n\u001b[0;32m   4814\u001b[0m     )\n\u001b[0;32m   4815\u001b[0m \u001b[38;5;28;01mif\u001b[39;00m \u001b[38;5;129;01mnot\u001b[39;00m allow_duplicates \u001b[38;5;129;01mand\u001b[39;00m column \u001b[38;5;129;01min\u001b[39;00m \u001b[38;5;28mself\u001b[39m\u001b[38;5;241m.\u001b[39mcolumns:\n\u001b[0;32m   4816\u001b[0m     \u001b[38;5;66;03m# Should this be a different kind of error??\u001b[39;00m\n\u001b[1;32m-> 4817\u001b[0m     \u001b[38;5;28;01mraise\u001b[39;00m \u001b[38;5;167;01mValueError\u001b[39;00m(\u001b[38;5;124mf\u001b[39m\u001b[38;5;124m\"\u001b[39m\u001b[38;5;124mcannot insert \u001b[39m\u001b[38;5;132;01m{\u001b[39;00mcolumn\u001b[38;5;132;01m}\u001b[39;00m\u001b[38;5;124m, already exists\u001b[39m\u001b[38;5;124m\"\u001b[39m)\n\u001b[0;32m   4818\u001b[0m \u001b[38;5;28;01mif\u001b[39;00m \u001b[38;5;129;01mnot\u001b[39;00m \u001b[38;5;28misinstance\u001b[39m(loc, \u001b[38;5;28mint\u001b[39m):\n\u001b[0;32m   4819\u001b[0m     \u001b[38;5;28;01mraise\u001b[39;00m \u001b[38;5;167;01mTypeError\u001b[39;00m(\u001b[38;5;124m\"\u001b[39m\u001b[38;5;124mloc must be int\u001b[39m\u001b[38;5;124m\"\u001b[39m)\n",
      "\u001b[1;31mValueError\u001b[0m: cannot insert Tour_ID, already exists"
     ]
    }
   ],
   "source": [
    "predictions_proba.insert(0, 'Tour_ID', test_file['Tour_ID'])"
   ]
  },
  {
   "cell_type": "code",
   "execution_count": 52,
   "id": "e843c0f5",
   "metadata": {},
   "outputs": [],
   "source": [
    "predictions_proba = predictions_proba.reset_index(drop=True)"
   ]
  },
  {
   "cell_type": "code",
   "execution_count": 54,
   "id": "4e4ca001",
   "metadata": {},
   "outputs": [
    {
     "data": {
      "text/html": [
       "<div>\n",
       "<style scoped>\n",
       "    .dataframe tbody tr th:only-of-type {\n",
       "        vertical-align: middle;\n",
       "    }\n",
       "\n",
       "    .dataframe tbody tr th {\n",
       "        vertical-align: top;\n",
       "    }\n",
       "\n",
       "    .dataframe thead th {\n",
       "        text-align: right;\n",
       "    }\n",
       "</style>\n",
       "<table border=\"1\" class=\"dataframe\">\n",
       "  <thead>\n",
       "    <tr style=\"text-align: right;\">\n",
       "      <th></th>\n",
       "      <th>High Cost</th>\n",
       "      <th>Higher Cost</th>\n",
       "      <th>Highest Cost</th>\n",
       "      <th>Low Cost</th>\n",
       "      <th>Lower Cost</th>\n",
       "      <th>Normal Cost</th>\n",
       "    </tr>\n",
       "    <tr>\n",
       "      <th>Tour_ID</th>\n",
       "      <th></th>\n",
       "      <th></th>\n",
       "      <th></th>\n",
       "      <th></th>\n",
       "      <th></th>\n",
       "      <th></th>\n",
       "    </tr>\n",
       "  </thead>\n",
       "  <tbody>\n",
       "    <tr>\n",
       "      <th>tour_idynufedne</th>\n",
       "      <td>0.147492</td>\n",
       "      <td>0.035340</td>\n",
       "      <td>0.000150</td>\n",
       "      <td>0.126793</td>\n",
       "      <td>0.099373</td>\n",
       "      <td>0.602504</td>\n",
       "    </tr>\n",
       "    <tr>\n",
       "      <th>tour_id9r3y5moe</th>\n",
       "      <td>0.267805</td>\n",
       "      <td>0.673613</td>\n",
       "      <td>0.034215</td>\n",
       "      <td>0.010512</td>\n",
       "      <td>0.009576</td>\n",
       "      <td>0.088725</td>\n",
       "    </tr>\n",
       "    <tr>\n",
       "      <th>tour_idf6itml6g</th>\n",
       "      <td>0.468347</td>\n",
       "      <td>0.315963</td>\n",
       "      <td>0.010304</td>\n",
       "      <td>0.014908</td>\n",
       "      <td>0.003661</td>\n",
       "      <td>0.207088</td>\n",
       "    </tr>\n",
       "    <tr>\n",
       "      <th>tour_id99u4znru</th>\n",
       "      <td>0.074910</td>\n",
       "      <td>0.010209</td>\n",
       "      <td>0.000508</td>\n",
       "      <td>0.163553</td>\n",
       "      <td>0.374354</td>\n",
       "      <td>0.309915</td>\n",
       "    </tr>\n",
       "    <tr>\n",
       "      <th>tour_idj4i9urbx</th>\n",
       "      <td>0.033376</td>\n",
       "      <td>0.010669</td>\n",
       "      <td>0.000374</td>\n",
       "      <td>0.207035</td>\n",
       "      <td>0.385545</td>\n",
       "      <td>0.375761</td>\n",
       "    </tr>\n",
       "    <tr>\n",
       "      <th>...</th>\n",
       "      <td>...</td>\n",
       "      <td>...</td>\n",
       "      <td>...</td>\n",
       "      <td>...</td>\n",
       "      <td>...</td>\n",
       "      <td>...</td>\n",
       "    </tr>\n",
       "    <tr>\n",
       "      <th>tour_id2deyfjhq</th>\n",
       "      <td>0.024433</td>\n",
       "      <td>0.008413</td>\n",
       "      <td>0.000475</td>\n",
       "      <td>0.248429</td>\n",
       "      <td>0.484685</td>\n",
       "      <td>0.353424</td>\n",
       "    </tr>\n",
       "    <tr>\n",
       "      <th>tour_idlenv2rio</th>\n",
       "      <td>0.046532</td>\n",
       "      <td>0.024695</td>\n",
       "      <td>0.000942</td>\n",
       "      <td>0.119932</td>\n",
       "      <td>0.371028</td>\n",
       "      <td>0.237579</td>\n",
       "    </tr>\n",
       "    <tr>\n",
       "      <th>tour_id7wwqrs0p</th>\n",
       "      <td>0.443385</td>\n",
       "      <td>0.151520</td>\n",
       "      <td>0.006838</td>\n",
       "      <td>0.021532</td>\n",
       "      <td>0.019480</td>\n",
       "      <td>0.249506</td>\n",
       "    </tr>\n",
       "    <tr>\n",
       "      <th>tour_idx80vbw5a</th>\n",
       "      <td>0.086219</td>\n",
       "      <td>0.022916</td>\n",
       "      <td>0.000147</td>\n",
       "      <td>0.155476</td>\n",
       "      <td>0.271619</td>\n",
       "      <td>0.453929</td>\n",
       "    </tr>\n",
       "    <tr>\n",
       "      <th>tour_id8fkkwytb</th>\n",
       "      <td>0.019562</td>\n",
       "      <td>0.017001</td>\n",
       "      <td>0.001091</td>\n",
       "      <td>0.233617</td>\n",
       "      <td>0.381980</td>\n",
       "      <td>0.368820</td>\n",
       "    </tr>\n",
       "  </tbody>\n",
       "</table>\n",
       "<p>6169 rows × 6 columns</p>\n",
       "</div>"
      ],
      "text/plain": [
       "                 High Cost  Higher Cost  Highest Cost  Low Cost  Lower Cost  \\\n",
       "Tour_ID                                                                       \n",
       "tour_idynufedne   0.147492     0.035340      0.000150  0.126793    0.099373   \n",
       "tour_id9r3y5moe   0.267805     0.673613      0.034215  0.010512    0.009576   \n",
       "tour_idf6itml6g   0.468347     0.315963      0.010304  0.014908    0.003661   \n",
       "tour_id99u4znru   0.074910     0.010209      0.000508  0.163553    0.374354   \n",
       "tour_idj4i9urbx   0.033376     0.010669      0.000374  0.207035    0.385545   \n",
       "...                    ...          ...           ...       ...         ...   \n",
       "tour_id2deyfjhq   0.024433     0.008413      0.000475  0.248429    0.484685   \n",
       "tour_idlenv2rio   0.046532     0.024695      0.000942  0.119932    0.371028   \n",
       "tour_id7wwqrs0p   0.443385     0.151520      0.006838  0.021532    0.019480   \n",
       "tour_idx80vbw5a   0.086219     0.022916      0.000147  0.155476    0.271619   \n",
       "tour_id8fkkwytb   0.019562     0.017001      0.001091  0.233617    0.381980   \n",
       "\n",
       "                 Normal Cost  \n",
       "Tour_ID                       \n",
       "tour_idynufedne     0.602504  \n",
       "tour_id9r3y5moe     0.088725  \n",
       "tour_idf6itml6g     0.207088  \n",
       "tour_id99u4znru     0.309915  \n",
       "tour_idj4i9urbx     0.375761  \n",
       "...                      ...  \n",
       "tour_id2deyfjhq     0.353424  \n",
       "tour_idlenv2rio     0.237579  \n",
       "tour_id7wwqrs0p     0.249506  \n",
       "tour_idx80vbw5a     0.453929  \n",
       "tour_id8fkkwytb     0.368820  \n",
       "\n",
       "[6169 rows x 6 columns]"
      ]
     },
     "execution_count": 54,
     "metadata": {},
     "output_type": "execute_result"
    }
   ],
   "source": [
    "predictions_proba.set_index('Tour_ID')"
   ]
  },
  {
   "cell_type": "code",
   "execution_count": 55,
   "id": "494da860",
   "metadata": {},
   "outputs": [],
   "source": [
    "predictions_proba.to_csv('data.csv',index=False)"
   ]
  }
 ],
 "metadata": {
  "kernelspec": {
   "display_name": "Python 3 (ipykernel)",
   "language": "python",
   "name": "python3"
  },
  "language_info": {
   "codemirror_mode": {
    "name": "ipython",
    "version": 3
   },
   "file_extension": ".py",
   "mimetype": "text/x-python",
   "name": "python",
   "nbconvert_exporter": "python",
   "pygments_lexer": "ipython3",
   "version": "3.10.9"
  }
 },
 "nbformat": 4,
 "nbformat_minor": 5
}
