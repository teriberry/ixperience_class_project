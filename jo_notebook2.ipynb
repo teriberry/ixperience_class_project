{
 "cells": [
  {
   "cell_type": "code",
   "execution_count": 1,
   "metadata": {},
   "outputs": [],
   "source": [
    "import pandas as pd\n",
    "import seaborn as sns\n",
    "import numpy as np"
   ]
  },
  {
   "cell_type": "code",
   "execution_count": 7,
   "metadata": {},
   "outputs": [],
   "source": [
    "train_file = pd.read_csv('train.csv')"
   ]
  },
  {
   "cell_type": "code",
   "execution_count": 8,
   "metadata": {},
   "outputs": [],
   "source": [
    "#Finding NaN values in the dataset\n",
    "train_nan = train_file[train_file.isna().any(axis=1)] "
   ]
  },
  {
   "cell_type": "code",
   "execution_count": 9,
   "metadata": {},
   "outputs": [
    {
     "data": {
      "text/html": [
       "<div>\n",
       "<style scoped>\n",
       "    .dataframe tbody tr th:only-of-type {\n",
       "        vertical-align: middle;\n",
       "    }\n",
       "\n",
       "    .dataframe tbody tr th {\n",
       "        vertical-align: top;\n",
       "    }\n",
       "\n",
       "    .dataframe thead th {\n",
       "        text-align: right;\n",
       "    }\n",
       "</style>\n",
       "<table border=\"1\" class=\"dataframe\">\n",
       "  <thead>\n",
       "    <tr style=\"text-align: right;\">\n",
       "      <th></th>\n",
       "      <th>travel_with</th>\n",
       "      <th>total_female</th>\n",
       "      <th>total_male</th>\n",
       "    </tr>\n",
       "  </thead>\n",
       "  <tbody>\n",
       "    <tr>\n",
       "      <th>24</th>\n",
       "      <td>NaN</td>\n",
       "      <td>0.0</td>\n",
       "      <td>1.0</td>\n",
       "    </tr>\n",
       "    <tr>\n",
       "      <th>81</th>\n",
       "      <td>NaN</td>\n",
       "      <td>0.0</td>\n",
       "      <td>1.0</td>\n",
       "    </tr>\n",
       "    <tr>\n",
       "      <th>94</th>\n",
       "      <td>NaN</td>\n",
       "      <td>0.0</td>\n",
       "      <td>1.0</td>\n",
       "    </tr>\n",
       "    <tr>\n",
       "      <th>115</th>\n",
       "      <td>NaN</td>\n",
       "      <td>0.0</td>\n",
       "      <td>1.0</td>\n",
       "    </tr>\n",
       "    <tr>\n",
       "      <th>121</th>\n",
       "      <td>NaN</td>\n",
       "      <td>1.0</td>\n",
       "      <td>0.0</td>\n",
       "    </tr>\n",
       "    <tr>\n",
       "      <th>...</th>\n",
       "      <td>...</td>\n",
       "      <td>...</td>\n",
       "      <td>...</td>\n",
       "    </tr>\n",
       "    <tr>\n",
       "      <th>18455</th>\n",
       "      <td>NaN</td>\n",
       "      <td>1.0</td>\n",
       "      <td>0.0</td>\n",
       "    </tr>\n",
       "    <tr>\n",
       "      <th>18476</th>\n",
       "      <td>NaN</td>\n",
       "      <td>0.0</td>\n",
       "      <td>1.0</td>\n",
       "    </tr>\n",
       "    <tr>\n",
       "      <th>18485</th>\n",
       "      <td>NaN</td>\n",
       "      <td>0.0</td>\n",
       "      <td>1.0</td>\n",
       "    </tr>\n",
       "    <tr>\n",
       "      <th>18486</th>\n",
       "      <td>NaN</td>\n",
       "      <td>1.0</td>\n",
       "      <td>0.0</td>\n",
       "    </tr>\n",
       "    <tr>\n",
       "      <th>18490</th>\n",
       "      <td>NaN</td>\n",
       "      <td>1.0</td>\n",
       "      <td>0.0</td>\n",
       "    </tr>\n",
       "  </tbody>\n",
       "</table>\n",
       "<p>1082 rows × 3 columns</p>\n",
       "</div>"
      ],
      "text/plain": [
       "      travel_with  total_female  total_male\n",
       "24            NaN           0.0         1.0\n",
       "81            NaN           0.0         1.0\n",
       "94            NaN           0.0         1.0\n",
       "115           NaN           0.0         1.0\n",
       "121           NaN           1.0         0.0\n",
       "...           ...           ...         ...\n",
       "18455         NaN           1.0         0.0\n",
       "18476         NaN           0.0         1.0\n",
       "18485         NaN           0.0         1.0\n",
       "18486         NaN           1.0         0.0\n",
       "18490         NaN           1.0         0.0\n",
       "\n",
       "[1082 rows x 3 columns]"
      ]
     },
     "execution_count": 9,
     "metadata": {},
     "output_type": "execute_result"
    }
   ],
   "source": [
    "#looking to fill NaN values in travel_with with 'Alone'\n",
    "train_nan[['travel_with','total_female','total_male']] "
   ]
  },
  {
   "cell_type": "code",
   "execution_count": 10,
   "metadata": {},
   "outputs": [],
   "source": [
    "#Filling all null travel with cells with 'Alone'\n",
    "train_file['travel_with'].fillna('Alone', inplace=True) "
   ]
  },
  {
   "cell_type": "code",
   "execution_count": 11,
   "metadata": {},
   "outputs": [],
   "source": [
    "#Dropping incompatable empty value\n",
    "train_file.drop(train_file.index[316], inplace=True) "
   ]
  },
  {
   "cell_type": "code",
   "execution_count": 12,
   "metadata": {},
   "outputs": [
    {
     "data": {
      "text/plain": [
       "0        0.0\n",
       "1        1.0\n",
       "2        1.0\n",
       "3        3.0\n",
       "4        0.0\n",
       "        ... \n",
       "18501    0.0\n",
       "18502    1.0\n",
       "18503    2.0\n",
       "18504    1.0\n",
       "18505    2.0\n",
       "Name: total_female, Length: 18503, dtype: float64"
      ]
     },
     "execution_count": 12,
     "metadata": {},
     "output_type": "execute_result"
    }
   ],
   "source": [
    "#Dropping all null female values\n",
    "train_file['total_female'].dropna() "
   ]
  },
  {
   "cell_type": "code",
   "execution_count": 13,
   "metadata": {},
   "outputs": [
    {
     "data": {
      "text/plain": [
       "0        2.0\n",
       "1        1.0\n",
       "2        1.0\n",
       "3        1.0\n",
       "4        1.0\n",
       "        ... \n",
       "18501    1.0\n",
       "18502    0.0\n",
       "18503    1.0\n",
       "18504    1.0\n",
       "18505    1.0\n",
       "Name: total_male, Length: 18499, dtype: float64"
      ]
     },
     "execution_count": 13,
     "metadata": {},
     "output_type": "execute_result"
    }
   ],
   "source": [
    "#Dropping all male null values\n",
    "train_file['total_male'].dropna() "
   ]
  },
  {
   "cell_type": "code",
   "execution_count": 14,
   "metadata": {},
   "outputs": [],
   "source": [
    "#Replacing all yes/no with 1/0 respectively\n",
    "train_file.replace(['Yes', 'No'], [1, 0], inplace=True) "
   ]
  },
  {
   "cell_type": "code",
   "execution_count": 15,
   "metadata": {},
   "outputs": [],
   "source": [
    "#making total packages per tour column\n",
    "train_file['total_packages'] = train_file['package_transport_int'] + train_file['package_accomodation'] + \\\n",
    "train_file['package_food'] + train_file['package_transport_tz'] + train_file['package_sightseeing'] + \\\n",
    "+ train_file['package_guided_tour'] + train_file['package_insurance']"
   ]
  },
  {
   "cell_type": "code",
   "execution_count": 16,
   "metadata": {},
   "outputs": [],
   "source": [
    "#making total people per tour column\n",
    "train_file['total_people'] = train_file['total_female'] + train_file['total_male']"
   ]
  },
  {
   "cell_type": "code",
   "execution_count": 17,
   "metadata": {},
   "outputs": [],
   "source": [
    "#makign total days column\n",
    "train_file['total_days'] = train_file['night_mainland'] + train_file['night_zanzibar']"
   ]
  },
  {
   "cell_type": "code",
   "execution_count": 18,
   "metadata": {},
   "outputs": [],
   "source": [
    "#Finding outliers in total people\n",
    "total_people = train_file['total_people'].unique()\n",
    "sorted_total_people = np.sort(total_people)"
   ]
  },
  {
   "cell_type": "code",
   "execution_count": 19,
   "metadata": {},
   "outputs": [],
   "source": [
    "#Number of occurences for amount of people on the trip\n",
    "people_counts = train_file['total_people'].value_counts()"
   ]
  },
  {
   "cell_type": "code",
   "execution_count": 20,
   "metadata": {},
   "outputs": [],
   "source": [
    "#remove parties > 50\n",
    "num_people = train_file[train_file['total_people'] > 50].index\n",
    "train_file.drop(num_people , inplace=True)"
   ]
  },
  {
   "cell_type": "code",
   "execution_count": 21,
   "metadata": {},
   "outputs": [],
   "source": [
    "#remove outliers for mainland? DISPLOT \n",
    "#sns.displot(train_file['night_mainland'])"
   ]
  },
  {
   "cell_type": "code",
   "execution_count": 22,
   "metadata": {},
   "outputs": [],
   "source": [
    "#Finding outliers in mainland nights(discuss)\n",
    "mainland_nights = train_file['night_mainland'].unique() \n",
    "sorted_mainland_nights = np.sort(mainland_nights)"
   ]
  },
  {
   "cell_type": "code",
   "execution_count": 23,
   "metadata": {},
   "outputs": [],
   "source": [
    "#remove outliers for zanzibar? DISPLOT\n",
    "#sns.displot(train_file['night_zanzibar'])"
   ]
  },
  {
   "cell_type": "code",
   "execution_count": 24,
   "metadata": {},
   "outputs": [],
   "source": [
    "#Finding outliers in zanzibar nights(discuss)\n",
    "zanibar_nights = train_file['night_zanzibar'].unique()\n",
    "sorted_zanzibar_nights = np.sort(zanibar_nights)"
   ]
  },
  {
   "cell_type": "code",
   "execution_count": 25,
   "metadata": {},
   "outputs": [],
   "source": [
    "#All countries into a list\n",
    "#all_countries = train_file.country.unique().tolist()"
   ]
  },
  {
   "cell_type": "code",
   "execution_count": 26,
   "metadata": {},
   "outputs": [],
   "source": [
    "#Getting countries where their occurence is less than 10\n",
    "low_country_count = train_file['country'].value_counts().to_frame()\n",
    "low_country_count = low_country_count[low_country_count['country'] < 10].index.tolist()"
   ]
  },
  {
   "cell_type": "code",
   "execution_count": 27,
   "metadata": {},
   "outputs": [],
   "source": [
    "#filtering out low countries from countries\n",
    "#high_country_count = [b for b in all_countries if all(a not in b for a in low_country_count)]"
   ]
  },
  {
   "cell_type": "code",
   "execution_count": 28,
   "metadata": {},
   "outputs": [],
   "source": [
    "#making a continent column\n",
    "europe = ['ITALY', 'UNITED KINGDOM', 'FRANCE', 'SWIZERLAND', 'SPAIN', 'DENMARK', 'BELGIUM', 'NETHERLANDS', 'NORWAY',\n",
    "         'GERMANY','RUSSIA', 'GREECE','POLAND','AUSTRIA','CZECH REPUBLIC', 'IRELAND','SWEDEN', 'FINLAND','LUXEMBOURG', 'ROMANIA', \n",
    "         'PORTUGAL', 'SCOTLAND','SLOVAKIA','UKRAIN', 'HUNGARY','TURKEY']\n",
    "north_america = ['UNITED STATES OF AMERICA', 'CANADA',]\n",
    "latin_america = ['BRAZIL', 'ARGENTINA', 'URUGUAY','MEXICO', ]\n",
    "asia = ['INDIA', 'CHINA', 'JAPAN', 'MALAYSIA', 'KOREA', 'THAILAND', 'SINGAPORE', 'PAKISTAN', 'TAIWAN', 'PHILIPINES',]\n",
    "middle_east = ['LEBANON', 'ISRAEL', 'UNITED ARAB EMIRATES', 'QATAR', 'OMAN', 'UAE', 'SAUD ARABIA',]\n",
    "oceania = ['AUSTRALIA', 'NEW ZEALAND',]\n",
    "africa = ['RWANDA','NIGERIA', 'ZAMBIA', 'ZIMBABWE', 'SOUTH AFRICA', 'KENYA', 'DRC', 'UGANDA', 'CONGO', 'BURUNDI', 'NAMIBIA',\n",
    "         'SUDAN', 'MALAWI','EGYPT', 'SRI LANKA','BOTSWANA', 'COMORO', 'ETHIOPIA','SWAZILAND',\n",
    " 'MOZAMBIQUE', 'MAURITIUS']\n",
    "other = ['CHILE', 'SERBIA', 'BAHRAIN', 'COLOMBIA', 'VIETNAM', 'MALT', 'KUWAIT', 'INDONESIA','GHANA', 'TRINIDAD TOBACCO',\n",
    "         'CROATIA','BULGARIA','MADAGASCAR','CAMEROON','ICELAND','LATVIA','LITHUANIA','ALGERIA','MORROCO','BERMUDA','SLOVENIA',\n",
    "         'SOMALI','YEMEN','VENEZUELA','ANGOLA','SEYCHELLES','NEPAL','TANZANIA','SENEGAL','JAMAICA','GAMBIA','PERU','IRAN',\n",
    "         'LESOTHO','COSTARICA','GEORGIA','BOSNIA','DOMINICA','CAMBODIA','BURGARIA','AFGHANISTAN','ECUADO','PAPUA NEW GUINEA','ARMENIA',\n",
    "         'CYPRUS','MACEDONIA','IVORY COAST','MONECASQUE','BARBADOS','MONTENEGRO','DJIBOUT','TUNISIA','LIBERIA','BANGLADESH','ERITREA',\n",
    "         'NIGER','ESTONIA','CAPE VERDE','JORDAN']\n",
    "\n",
    "conditions = [train_file['country'].isin(europe), \n",
    "        train_file['country'].isin(north_america), train_file['country'].isin(latin_america),\n",
    "        train_file['country'].isin(asia), train_file['country'].isin(middle_east), \n",
    "        train_file['country'].isin(oceania), train_file['country'].isin(africa), \n",
    "         train_file['country'].isin(other)]\n",
    "\n",
    "values = ['EUROPE', 'NORTH AMERICA', 'LATIN AMERICA', 'ASIA', 'MIDDLE EAST', 'OCEANIA', 'AFRICA', 'OTHER']\n",
    "train_file['continent'] = np.select(conditions, values)"
   ]
  },
  {
   "cell_type": "code",
   "execution_count": 29,
   "metadata": {},
   "outputs": [],
   "source": [
    "#Replacing cost categories with representative numerical values\n",
    "train_file.replace({'Lower Cost' : 1, \n",
    "                    'Low Cost' : 2, \n",
    "                    'Normal Cost' : 3, \n",
    "                    'High Cost' : 4, \n",
    "                    'Higher Cost' : 5, \n",
    "                    'Highest Cost' : 6}, inplace=True)"
   ]
  },
  {
   "cell_type": "code",
   "execution_count": 30,
   "metadata": {},
   "outputs": [
    {
     "name": "stderr",
     "output_type": "stream",
     "text": [
      "/var/folders/bv/cr3s5pnj5w55vhgmq67g6z1h0000gn/T/ipykernel_21591/1630082594.py:2: FutureWarning: The default value of numeric_only in DataFrame.corr is deprecated. In a future version, it will default to False. Select only valid columns or specify the value of numeric_only to silence this warning.\n",
      "  training_correlations = train_file.corr()\n"
     ]
    }
   ],
   "source": [
    "#getting the correlations of the entire training table\n",
    "training_correlations = train_file.corr()"
   ]
  },
  {
   "cell_type": "code",
   "execution_count": 31,
   "metadata": {},
   "outputs": [],
   "source": [
    "#getting the correlations of the cost category\n",
    "training_corr_series = training_correlations['cost_category']"
   ]
  },
  {
   "cell_type": "code",
   "execution_count": 32,
   "metadata": {},
   "outputs": [],
   "source": [
    "#getting correlations over 0.5\n",
    "pos_cost_correlations = training_correlations[training_correlations['cost_category'] > 0.5]['cost_category']"
   ]
  },
  {
   "cell_type": "code",
   "execution_count": 33,
   "metadata": {},
   "outputs": [],
   "source": [
    "#Counting/normalizing cost categories across continents\n",
    "cont_vs_cost = pd.crosstab(train_file.continent, train_file.cost_category, normalize='columns')"
   ]
  },
  {
   "cell_type": "code",
   "execution_count": 34,
   "metadata": {},
   "outputs": [],
   "source": [
    "#getting mean cost_category across continents\n",
    "cont_cost_mean = train_file.groupby('continent', as_index=False).cost_category.mean()"
   ]
  },
  {
   "cell_type": "code",
   "execution_count": 35,
   "metadata": {},
   "outputs": [],
   "source": [
    "#descriptive stats based on continent\n",
    "descriptive_cont = train_file.groupby('continent').cost_category.describe()"
   ]
  },
  {
   "cell_type": "code",
   "execution_count": 36,
   "metadata": {},
   "outputs": [],
   "source": [
    "#correlations on attributes over 0.5 grouped by continent\n",
    "cont_pos_corr = train_file.groupby('continent')[['package_transport_int', 'package_accomodation', 'package_food', 'package_transport_tz',\n",
    "                                'total_packages', 'cost_category']].corr()['cost_category']"
   ]
  },
  {
   "cell_type": "code",
   "execution_count": 37,
   "metadata": {},
   "outputs": [],
   "source": [
    "#Counting/normalizing cost categories across age groups\n",
    "age_vs_cost = pd.crosstab(train_file.age_group, train_file.cost_category, normalize='columns')"
   ]
  },
  {
   "cell_type": "code",
   "execution_count": 38,
   "metadata": {},
   "outputs": [],
   "source": [
    "#getting mean cost_category across ages\n",
    "age_cost_mean = train_file.groupby('age_group', as_index=False).cost_category.mean()"
   ]
  },
  {
   "cell_type": "code",
   "execution_count": 39,
   "metadata": {},
   "outputs": [],
   "source": [
    "#descriptive stats based on age groups\n",
    "descriptive_age = train_file.groupby('age_group').cost_category.describe()"
   ]
  },
  {
   "cell_type": "code",
   "execution_count": 40,
   "metadata": {},
   "outputs": [],
   "source": [
    "#correlations on attributes over 0.5 grouped by age groups\n",
    "age_pos_corr = train_file.groupby('age_group')[['package_transport_int', 'package_accomodation', 'package_food', 'package_transport_tz',\n",
    "                                'total_packages', 'cost_category']].corr()['cost_category']"
   ]
  },
  {
   "cell_type": "code",
   "execution_count": 41,
   "metadata": {},
   "outputs": [],
   "source": [
    "#Counting/normalizing cost categories across travel group type\n",
    "travelers_vs_cost = pd.crosstab(train_file.travel_with, train_file.cost_category, normalize='columns')"
   ]
  },
  {
   "cell_type": "code",
   "execution_count": 42,
   "metadata": {},
   "outputs": [],
   "source": [
    "#getting mean cost_category across travel group type\n",
    "travelers_cost_mean = train_file.groupby('travel_with', as_index=False).cost_category.mean()"
   ]
  },
  {
   "cell_type": "code",
   "execution_count": 43,
   "metadata": {},
   "outputs": [],
   "source": [
    "#descriptive stats based on travel group type\n",
    "descriptive_travelers = train_file.groupby('travel_with').cost_category.describe()"
   ]
  },
  {
   "cell_type": "code",
   "execution_count": 44,
   "metadata": {},
   "outputs": [],
   "source": [
    "#correlations on attributes over 0.5 grouped by travel group type\n",
    "travelers_pos_corr = train_file.groupby('travel_with')[['package_transport_int', 'package_accomodation', 'package_food', 'package_transport_tz',\n",
    "                                'total_packages', 'cost_category']].corr()['cost_category']"
   ]
  },
  {
   "cell_type": "code",
   "execution_count": 45,
   "metadata": {},
   "outputs": [],
   "source": [
    "#Counting/normalizing cost categories across travel purpose\n",
    "purpose_vs_cost = pd.crosstab(train_file.purpose, train_file.cost_category, normalize='columns')"
   ]
  },
  {
   "cell_type": "code",
   "execution_count": 46,
   "metadata": {},
   "outputs": [],
   "source": [
    "#getting mean cost_category across purpose types\n",
    "purpose_cost_mean = train_file.groupby('purpose', as_index=False).cost_category.mean()"
   ]
  },
  {
   "cell_type": "code",
   "execution_count": 47,
   "metadata": {},
   "outputs": [],
   "source": [
    "#descriptive stats based on purpose type\n",
    "descriptive_purpose = train_file.groupby('purpose').cost_category.describe()"
   ]
  },
  {
   "cell_type": "code",
   "execution_count": 48,
   "metadata": {},
   "outputs": [],
   "source": [
    "#correlations on attributes over 0.5 grouped by purpose type\n",
    "purpose_pos_corr = train_file.groupby('purpose')[['package_transport_int', 'package_accomodation', 'package_food', 'package_transport_tz',\n",
    "                                'total_packages', 'cost_category']].corr()['cost_category']"
   ]
  },
  {
   "cell_type": "code",
   "execution_count": 49,
   "metadata": {},
   "outputs": [],
   "source": [
    "#Counting/normalizing cost categories across main activities\n",
    "mainact_vs_cost = pd.crosstab(train_file.main_activity, train_file.cost_category, normalize='columns')"
   ]
  },
  {
   "cell_type": "code",
   "execution_count": 50,
   "metadata": {},
   "outputs": [],
   "source": [
    "#getting mean cost_category across mainact types\n",
    "mainact_cost_mean = train_file.groupby('main_activity', as_index=False).cost_category.mean()"
   ]
  },
  {
   "cell_type": "code",
   "execution_count": 51,
   "metadata": {},
   "outputs": [],
   "source": [
    "#descriptive stats based on main act type\n",
    "descriptive_mainact = train_file.groupby('main_activity').cost_category.describe()"
   ]
  },
  {
   "cell_type": "code",
   "execution_count": 52,
   "metadata": {},
   "outputs": [],
   "source": [
    "#correlations on attributes over 0.5 grouped by main act type\n",
    "mainact_pos_corr = train_file.groupby('main_activity')[['package_transport_int', 'package_accomodation', 'package_food', 'package_transport_tz',\n",
    "                                'total_packages', 'cost_category']].corr()['cost_category']"
   ]
  }
 ],
 "metadata": {
  "kernelspec": {
   "display_name": "Python 3 (ipykernel)",
   "language": "python",
   "name": "python3"
  },
  "language_info": {
   "codemirror_mode": {
    "name": "ipython",
    "version": 3
   },
   "file_extension": ".py",
   "mimetype": "text/x-python",
   "name": "python",
   "nbconvert_exporter": "python",
   "pygments_lexer": "ipython3",
   "version": "3.11.4"
  }
 },
 "nbformat": 4,
 "nbformat_minor": 4
}
