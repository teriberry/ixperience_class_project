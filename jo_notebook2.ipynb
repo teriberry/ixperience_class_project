{
 "cells": [
  {
   "cell_type": "code",
   "execution_count": 271,
   "metadata": {},
   "outputs": [],
   "source": [
    "import pandas as pd\n",
    "import seaborn as sns\n",
    "import numpy as np\n",
    "from sklearn.linear_model import LinearRegression, LogisticRegression\n",
    "from sklearn.model_selection import train_test_split\n",
    "from sklearn.metrics import accuracy_score"
   ]
  },
  {
   "cell_type": "code",
   "execution_count": 272,
   "metadata": {},
   "outputs": [],
   "source": [
    "train_file = pd.read_csv('train.csv')"
   ]
  },
  {
   "cell_type": "markdown",
   "metadata": {},
   "source": [
    "# cleaning NaN vals"
   ]
  },
  {
   "cell_type": "code",
   "execution_count": 273,
   "metadata": {},
   "outputs": [],
   "source": [
    "#Finding NaN values in the dataset\n",
    "train_nan = train_file[train_file.isna().any(axis=1)] "
   ]
  },
  {
   "cell_type": "code",
   "execution_count": 341,
   "metadata": {},
   "outputs": [],
   "source": [
    "#looking to fill NaN values in travel_with with 'Alone'\n",
    "alone_nan = train_nan[['travel_with','total_female','total_male']] "
   ]
  },
  {
   "cell_type": "code",
   "execution_count": 275,
   "metadata": {},
   "outputs": [],
   "source": [
    "#Filling all null travel with cells with 'Alone'\n",
    "train_file['travel_with'].fillna('Alone', inplace=True) "
   ]
  },
  {
   "cell_type": "code",
   "execution_count": 276,
   "metadata": {},
   "outputs": [],
   "source": [
    "#Dropping incompatable empty value\n",
    "train_file.drop(train_file.index[316], inplace=True) "
   ]
  },
  {
   "cell_type": "code",
   "execution_count": 277,
   "metadata": {},
   "outputs": [
    {
     "data": {
      "text/plain": [
       "0        0.0\n",
       "1        1.0\n",
       "2        1.0\n",
       "3        3.0\n",
       "4        0.0\n",
       "        ... \n",
       "18501    0.0\n",
       "18502    1.0\n",
       "18503    2.0\n",
       "18504    1.0\n",
       "18505    2.0\n",
       "Name: total_female, Length: 18503, dtype: float64"
      ]
     },
     "execution_count": 277,
     "metadata": {},
     "output_type": "execute_result"
    }
   ],
   "source": [
    "#Dropping all null female values\n",
    "train_file['total_female'].dropna() "
   ]
  },
  {
   "cell_type": "code",
   "execution_count": 278,
   "metadata": {},
   "outputs": [
    {
     "data": {
      "text/plain": [
       "0        2.0\n",
       "1        1.0\n",
       "2        1.0\n",
       "3        1.0\n",
       "4        1.0\n",
       "        ... \n",
       "18501    1.0\n",
       "18502    0.0\n",
       "18503    1.0\n",
       "18504    1.0\n",
       "18505    1.0\n",
       "Name: total_male, Length: 18499, dtype: float64"
      ]
     },
     "execution_count": 278,
     "metadata": {},
     "output_type": "execute_result"
    }
   ],
   "source": [
    "#Dropping all male null values\n",
    "train_file['total_male'].dropna() "
   ]
  },
  {
   "cell_type": "markdown",
   "metadata": {},
   "source": [
    "# cleaning data (making columns, replacing values, combining, removing outliers, etc)"
   ]
  },
  {
   "cell_type": "code",
   "execution_count": 279,
   "metadata": {},
   "outputs": [],
   "source": [
    "#Replacing all yes/no with 1/0 respectively\n",
    "train_file.replace(['Yes', 'No'], [1, 0], inplace=True) "
   ]
  },
  {
   "cell_type": "code",
   "execution_count": 280,
   "metadata": {},
   "outputs": [],
   "source": [
    "#making total packages per tour column\n",
    "train_file['total_packages'] = train_file['package_transport_int'] + train_file['package_accomodation'] + \\\n",
    "train_file['package_food'] + train_file['package_transport_tz'] + train_file['package_sightseeing'] + \\\n",
    "+ train_file['package_guided_tour'] + train_file['package_insurance']"
   ]
  },
  {
   "cell_type": "code",
   "execution_count": 281,
   "metadata": {},
   "outputs": [],
   "source": [
    "#making total people per tour column\n",
    "train_file['total_people'] = train_file['total_female'] + train_file['total_male']"
   ]
  },
  {
   "cell_type": "code",
   "execution_count": 282,
   "metadata": {},
   "outputs": [],
   "source": [
    "#makign total days column\n",
    "train_file['total_days'] = train_file['night_mainland'] + train_file['night_zanzibar']"
   ]
  },
  {
   "cell_type": "code",
   "execution_count": 283,
   "metadata": {},
   "outputs": [],
   "source": [
    "#combining all wildlife\n",
    "train_file['main_activity'].replace('Widlife Tourism', 'Wildlife Tourism', inplace=True)"
   ]
  },
  {
   "cell_type": "code",
   "execution_count": 284,
   "metadata": {},
   "outputs": [],
   "source": [
    "#Finding outliers in total people\n",
    "total_people = train_file['total_people'].unique()\n",
    "sorted_total_people = np.sort(total_people)"
   ]
  },
  {
   "cell_type": "code",
   "execution_count": 285,
   "metadata": {},
   "outputs": [],
   "source": [
    "#Number of occurences for amount of people on the trip\n",
    "people_counts = train_file['total_people'].value_counts()"
   ]
  },
  {
   "cell_type": "code",
   "execution_count": 286,
   "metadata": {},
   "outputs": [],
   "source": [
    "#remove parties > 50\n",
    "num_people = train_file[train_file['total_people'] > 50].index\n",
    "train_file.drop(num_people , inplace=True)"
   ]
  },
  {
   "cell_type": "code",
   "execution_count": 288,
   "metadata": {},
   "outputs": [],
   "source": [
    "#Finding outliers in mainland nights(discuss)\n",
    "mainland_nights = train_file['night_mainland'].unique() \n",
    "sorted_mainland_nights = np.sort(mainland_nights)"
   ]
  },
  {
   "cell_type": "code",
   "execution_count": 290,
   "metadata": {},
   "outputs": [],
   "source": [
    "#Finding outliers in zanzibar nights(discuss)\n",
    "zanibar_nights = train_file['night_zanzibar'].unique()\n",
    "sorted_zanzibar_nights = np.sort(zanibar_nights)"
   ]
  },
  {
   "cell_type": "code",
   "execution_count": 291,
   "metadata": {},
   "outputs": [],
   "source": [
    "total_days_unique = train_file['total_days'].unique()\n",
    "sorted_total_days_unique = np.sort(total_days_unique)"
   ]
  },
  {
   "cell_type": "code",
   "execution_count": 292,
   "metadata": {},
   "outputs": [],
   "source": [
    "num_total_days = train_file[train_file['total_days'] > 180].index\n",
    "train_file.drop(num_total_days , inplace=True)"
   ]
  },
  {
   "cell_type": "code",
   "execution_count": 293,
   "metadata": {},
   "outputs": [],
   "source": [
    "#Getting countries where their occurence is less than 10\n",
    "low_country_count = train_file['country'].value_counts().to_frame()\n",
    "low_country_count = low_country_count[low_country_count['country'] < 10].index.tolist()"
   ]
  },
  {
   "cell_type": "code",
   "execution_count": 294,
   "metadata": {},
   "outputs": [],
   "source": [
    "#making a continent column\n",
    "europe = ['ITALY', 'UNITED KINGDOM', 'FRANCE', 'SWIZERLAND', 'SPAIN', 'DENMARK', 'BELGIUM', 'NETHERLANDS', 'NORWAY',\n",
    "         'GERMANY','RUSSIA', 'GREECE','POLAND','AUSTRIA','CZECH REPUBLIC', 'IRELAND','SWEDEN', 'FINLAND','LUXEMBOURG', 'ROMANIA', \n",
    "         'PORTUGAL', 'SCOTLAND','SLOVAKIA','UKRAIN', 'HUNGARY','TURKEY']\n",
    "north_america = ['UNITED STATES OF AMERICA', 'CANADA',]\n",
    "latin_america = ['BRAZIL', 'ARGENTINA', 'URUGUAY','MEXICO', ]\n",
    "asia = ['INDIA', 'CHINA', 'JAPAN', 'MALAYSIA', 'KOREA', 'THAILAND', 'SINGAPORE', 'PAKISTAN', 'TAIWAN', 'PHILIPINES',]\n",
    "middle_east = ['LEBANON', 'ISRAEL', 'UNITED ARAB EMIRATES', 'QATAR', 'OMAN', 'UAE', 'SAUD ARABIA',]\n",
    "oceania = ['AUSTRALIA', 'NEW ZEALAND',]\n",
    "africa = ['RWANDA','NIGERIA', 'ZAMBIA', 'ZIMBABWE', 'SOUTH AFRICA', 'KENYA', 'DRC', 'UGANDA', 'CONGO', 'BURUNDI', 'NAMIBIA',\n",
    "         'SUDAN', 'MALAWI','EGYPT', 'SRI LANKA','BOTSWANA', 'COMORO', 'ETHIOPIA','SWAZILAND',\n",
    " 'MOZAMBIQUE', 'MAURITIUS']\n",
    "other = ['CHILE', 'SERBIA', 'BAHRAIN', 'COLOMBIA', 'VIETNAM', 'MALT', 'KUWAIT', 'INDONESIA','GHANA', 'TRINIDAD TOBACCO',\n",
    "         'CROATIA','BULGARIA','MADAGASCAR','CAMEROON','ICELAND','LATVIA','LITHUANIA','ALGERIA','MORROCO','BERMUDA','SLOVENIA',\n",
    "         'SOMALI','YEMEN','VENEZUELA','ANGOLA','SEYCHELLES','NEPAL','TANZANIA','SENEGAL','JAMAICA','GAMBIA','PERU','IRAN',\n",
    "         'LESOTHO','COSTARICA','GEORGIA','BOSNIA','DOMINICA','CAMBODIA','BURGARIA','AFGHANISTAN','ECUADO','PAPUA NEW GUINEA','ARMENIA',\n",
    "         'CYPRUS','MACEDONIA','IVORY COAST','MONECASQUE','BARBADOS','MONTENEGRO','DJIBOUT','TUNISIA','LIBERIA','BANGLADESH','ERITREA',\n",
    "         'NIGER','ESTONIA','CAPE VERDE','JORDAN']\n",
    "\n",
    "conditions = [train_file['country'].isin(europe), \n",
    "        train_file['country'].isin(north_america), train_file['country'].isin(latin_america),\n",
    "        train_file['country'].isin(asia), train_file['country'].isin(middle_east), \n",
    "        train_file['country'].isin(oceania), train_file['country'].isin(africa), \n",
    "         train_file['country'].isin(other)]\n",
    "\n",
    "values = ['EUROPE', 'NORTH AMERICA', 'LATIN AMERICA', 'ASIA', 'MIDDLE EAST', 'OCEANIA', 'AFRICA', 'OTHER']\n",
    "train_file['continent'] = np.select(conditions, values)"
   ]
  },
  {
   "cell_type": "code",
   "execution_count": 295,
   "metadata": {},
   "outputs": [],
   "source": [
    "#Replacing cost categories with representative numerical values\n",
    "train_file.replace({'Lower Cost' : 1, \n",
    "                    'Low Cost' : 2, \n",
    "                    'Normal Cost' : 3, \n",
    "                    'High Cost' : 4, \n",
    "                    'Higher Cost' : 5, \n",
    "                    'Highest Cost' : 6}, inplace=True)"
   ]
  },
  {
   "cell_type": "markdown",
   "metadata": {},
   "source": [
    "# getting correlations / other statistics "
   ]
  },
  {
   "cell_type": "markdown",
   "metadata": {},
   "source": [
    "## overall table stats"
   ]
  },
  {
   "cell_type": "code",
   "execution_count": 296,
   "metadata": {},
   "outputs": [
    {
     "name": "stderr",
     "output_type": "stream",
     "text": [
      "/var/folders/bv/cr3s5pnj5w55vhgmq67g6z1h0000gn/T/ipykernel_23750/1630082594.py:2: FutureWarning: The default value of numeric_only in DataFrame.corr is deprecated. In a future version, it will default to False. Select only valid columns or specify the value of numeric_only to silence this warning.\n",
      "  training_correlations = train_file.corr()\n"
     ]
    }
   ],
   "source": [
    "#getting the correlations of the entire training table\n",
    "training_correlations = train_file.corr()"
   ]
  },
  {
   "cell_type": "code",
   "execution_count": 297,
   "metadata": {},
   "outputs": [],
   "source": [
    "#getting the correlations of the cost category\n",
    "training_corr_series = training_correlations['cost_category']"
   ]
  },
  {
   "cell_type": "code",
   "execution_count": 298,
   "metadata": {},
   "outputs": [],
   "source": [
    "#getting correlations over 0.5\n",
    "pos_cost_correlations = training_correlations[training_correlations['cost_category'] > 0.5]['cost_category']"
   ]
  },
  {
   "cell_type": "markdown",
   "metadata": {},
   "source": [
    "## continent stats"
   ]
  },
  {
   "cell_type": "code",
   "execution_count": 338,
   "metadata": {},
   "outputs": [
    {
     "data": {
      "text/html": [
       "<div>\n",
       "<style scoped>\n",
       "    .dataframe tbody tr th:only-of-type {\n",
       "        vertical-align: middle;\n",
       "    }\n",
       "\n",
       "    .dataframe tbody tr th {\n",
       "        vertical-align: top;\n",
       "    }\n",
       "\n",
       "    .dataframe thead th {\n",
       "        text-align: right;\n",
       "    }\n",
       "</style>\n",
       "<table border=\"1\" class=\"dataframe\">\n",
       "  <thead>\n",
       "    <tr style=\"text-align: right;\">\n",
       "      <th>cost_category</th>\n",
       "      <th>1</th>\n",
       "      <th>2</th>\n",
       "      <th>3</th>\n",
       "      <th>4</th>\n",
       "      <th>5</th>\n",
       "      <th>6</th>\n",
       "    </tr>\n",
       "    <tr>\n",
       "      <th>continent</th>\n",
       "      <th></th>\n",
       "      <th></th>\n",
       "      <th></th>\n",
       "      <th></th>\n",
       "      <th></th>\n",
       "      <th></th>\n",
       "    </tr>\n",
       "  </thead>\n",
       "  <tbody>\n",
       "    <tr>\n",
       "      <th>AFRICA</th>\n",
       "      <td>0.697584</td>\n",
       "      <td>0.457801</td>\n",
       "      <td>0.210757</td>\n",
       "      <td>0.062296</td>\n",
       "      <td>0.041186</td>\n",
       "      <td>0.198324</td>\n",
       "    </tr>\n",
       "    <tr>\n",
       "      <th>ASIA</th>\n",
       "      <td>0.049493</td>\n",
       "      <td>0.079284</td>\n",
       "      <td>0.074277</td>\n",
       "      <td>0.047062</td>\n",
       "      <td>0.029036</td>\n",
       "      <td>0.011173</td>\n",
       "    </tr>\n",
       "    <tr>\n",
       "      <th>EUROPE</th>\n",
       "      <td>0.153936</td>\n",
       "      <td>0.299233</td>\n",
       "      <td>0.474753</td>\n",
       "      <td>0.618335</td>\n",
       "      <td>0.515445</td>\n",
       "      <td>0.402235</td>\n",
       "    </tr>\n",
       "    <tr>\n",
       "      <th>LATIN AMERICA</th>\n",
       "      <td>0.000779</td>\n",
       "      <td>0.000639</td>\n",
       "      <td>0.006952</td>\n",
       "      <td>0.008433</td>\n",
       "      <td>0.006590</td>\n",
       "      <td>0.008380</td>\n",
       "    </tr>\n",
       "    <tr>\n",
       "      <th>MIDDLE EAST</th>\n",
       "      <td>0.017537</td>\n",
       "      <td>0.028133</td>\n",
       "      <td>0.034577</td>\n",
       "      <td>0.022307</td>\n",
       "      <td>0.016063</td>\n",
       "      <td>0.013966</td>\n",
       "    </tr>\n",
       "    <tr>\n",
       "      <th>NORTH AMERICA</th>\n",
       "      <td>0.056898</td>\n",
       "      <td>0.097826</td>\n",
       "      <td>0.144530</td>\n",
       "      <td>0.186888</td>\n",
       "      <td>0.319399</td>\n",
       "      <td>0.245810</td>\n",
       "    </tr>\n",
       "    <tr>\n",
       "      <th>OCEANIA</th>\n",
       "      <td>0.013640</td>\n",
       "      <td>0.019182</td>\n",
       "      <td>0.037688</td>\n",
       "      <td>0.044886</td>\n",
       "      <td>0.063839</td>\n",
       "      <td>0.108939</td>\n",
       "    </tr>\n",
       "    <tr>\n",
       "      <th>OTHER</th>\n",
       "      <td>0.010133</td>\n",
       "      <td>0.017903</td>\n",
       "      <td>0.016465</td>\n",
       "      <td>0.009793</td>\n",
       "      <td>0.008443</td>\n",
       "      <td>0.011173</td>\n",
       "    </tr>\n",
       "  </tbody>\n",
       "</table>\n",
       "</div>"
      ],
      "text/plain": [
       "cost_category         1         2         3         4         5         6\n",
       "continent                                                                \n",
       "AFRICA         0.697584  0.457801  0.210757  0.062296  0.041186  0.198324\n",
       "ASIA           0.049493  0.079284  0.074277  0.047062  0.029036  0.011173\n",
       "EUROPE         0.153936  0.299233  0.474753  0.618335  0.515445  0.402235\n",
       "LATIN AMERICA  0.000779  0.000639  0.006952  0.008433  0.006590  0.008380\n",
       "MIDDLE EAST    0.017537  0.028133  0.034577  0.022307  0.016063  0.013966\n",
       "NORTH AMERICA  0.056898  0.097826  0.144530  0.186888  0.319399  0.245810\n",
       "OCEANIA        0.013640  0.019182  0.037688  0.044886  0.063839  0.108939\n",
       "OTHER          0.010133  0.017903  0.016465  0.009793  0.008443  0.011173"
      ]
     },
     "execution_count": 338,
     "metadata": {},
     "output_type": "execute_result"
    }
   ],
   "source": [
    "#Counting/normalizing cost categories across continents\n",
    "cont_vs_cost = pd.crosstab(train_file.continent, train_file.cost_category, normalize='columns')\n",
    "cont_vs_cost"
   ]
  },
  {
   "cell_type": "code",
   "execution_count": 339,
   "metadata": {},
   "outputs": [
    {
     "data": {
      "text/html": [
       "<div>\n",
       "<style scoped>\n",
       "    .dataframe tbody tr th:only-of-type {\n",
       "        vertical-align: middle;\n",
       "    }\n",
       "\n",
       "    .dataframe tbody tr th {\n",
       "        vertical-align: top;\n",
       "    }\n",
       "\n",
       "    .dataframe thead th {\n",
       "        text-align: right;\n",
       "    }\n",
       "</style>\n",
       "<table border=\"1\" class=\"dataframe\">\n",
       "  <thead>\n",
       "    <tr style=\"text-align: right;\">\n",
       "      <th></th>\n",
       "      <th>continent</th>\n",
       "      <th>cost_category</th>\n",
       "    </tr>\n",
       "  </thead>\n",
       "  <tbody>\n",
       "    <tr>\n",
       "      <th>0</th>\n",
       "      <td>AFRICA</td>\n",
       "      <td>2.169312</td>\n",
       "    </tr>\n",
       "    <tr>\n",
       "      <th>1</th>\n",
       "      <td>ASIA</td>\n",
       "      <td>3.091282</td>\n",
       "    </tr>\n",
       "    <tr>\n",
       "      <th>2</th>\n",
       "      <td>EUROPE</td>\n",
       "      <td>3.770232</td>\n",
       "    </tr>\n",
       "    <tr>\n",
       "      <th>3</th>\n",
       "      <td>LATIN AMERICA</td>\n",
       "      <td>3.925234</td>\n",
       "    </tr>\n",
       "    <tr>\n",
       "      <th>4</th>\n",
       "      <td>MIDDLE EAST</td>\n",
       "      <td>3.268623</td>\n",
       "    </tr>\n",
       "    <tr>\n",
       "      <th>5</th>\n",
       "      <td>NORTH AMERICA</td>\n",
       "      <td>4.056515</td>\n",
       "    </tr>\n",
       "    <tr>\n",
       "      <th>6</th>\n",
       "      <td>OCEANIA</td>\n",
       "      <td>4.021656</td>\n",
       "    </tr>\n",
       "    <tr>\n",
       "      <th>7</th>\n",
       "      <td>OTHER</td>\n",
       "      <td>3.222222</td>\n",
       "    </tr>\n",
       "  </tbody>\n",
       "</table>\n",
       "</div>"
      ],
      "text/plain": [
       "       continent  cost_category\n",
       "0         AFRICA       2.169312\n",
       "1           ASIA       3.091282\n",
       "2         EUROPE       3.770232\n",
       "3  LATIN AMERICA       3.925234\n",
       "4    MIDDLE EAST       3.268623\n",
       "5  NORTH AMERICA       4.056515\n",
       "6        OCEANIA       4.021656\n",
       "7          OTHER       3.222222"
      ]
     },
     "execution_count": 339,
     "metadata": {},
     "output_type": "execute_result"
    }
   ],
   "source": [
    "#getting mean cost_category across continents\n",
    "cont_cost_mean = train_file.groupby('continent', as_index=False).cost_category.mean()\n",
    "cont_cost_mean"
   ]
  },
  {
   "cell_type": "code",
   "execution_count": 301,
   "metadata": {},
   "outputs": [],
   "source": [
    "#descriptive stats based on continent\n",
    "descriptive_cont = train_file.groupby('continent').cost_category.describe()"
   ]
  },
  {
   "cell_type": "code",
   "execution_count": 302,
   "metadata": {},
   "outputs": [],
   "source": [
    "#correlations on attributes over 0.5 grouped by continent\n",
    "cont_pos_corr = train_file.groupby('continent')[['package_transport_int', 'package_accomodation', 'package_food', 'package_transport_tz',\n",
    "                                'total_packages', 'cost_category']].corr()['cost_category']"
   ]
  },
  {
   "cell_type": "markdown",
   "metadata": {},
   "source": [
    "## age group stats"
   ]
  },
  {
   "cell_type": "code",
   "execution_count": 303,
   "metadata": {},
   "outputs": [],
   "source": [
    "#Counting/normalizing cost categories across age groups\n",
    "age_vs_cost = pd.crosstab(train_file.age_group, train_file.cost_category, normalize='columns')"
   ]
  },
  {
   "cell_type": "code",
   "execution_count": 304,
   "metadata": {},
   "outputs": [],
   "source": [
    "#getting mean cost_category across ages\n",
    "age_cost_mean = train_file.groupby('age_group', as_index=False).cost_category.mean()"
   ]
  },
  {
   "cell_type": "code",
   "execution_count": 305,
   "metadata": {},
   "outputs": [],
   "source": [
    "#descriptive stats based on age groups\n",
    "descriptive_age = train_file.groupby('age_group').cost_category.describe()"
   ]
  },
  {
   "cell_type": "code",
   "execution_count": 306,
   "metadata": {},
   "outputs": [],
   "source": [
    "#correlations on attributes over 0.5 grouped by age groups\n",
    "age_pos_corr = train_file.groupby('age_group')[['package_transport_int', 'package_accomodation', 'package_food', 'package_transport_tz',\n",
    "                                'total_packages', 'cost_category']].corr()['cost_category']"
   ]
  },
  {
   "cell_type": "markdown",
   "metadata": {},
   "source": [
    "## traveler group stats"
   ]
  },
  {
   "cell_type": "code",
   "execution_count": 307,
   "metadata": {},
   "outputs": [],
   "source": [
    "#Counting/normalizing cost categories across travel group type\n",
    "travelers_vs_cost = pd.crosstab(train_file.travel_with, train_file.cost_category, normalize='columns')"
   ]
  },
  {
   "cell_type": "code",
   "execution_count": 308,
   "metadata": {},
   "outputs": [],
   "source": [
    "#getting mean cost_category across travel group type\n",
    "travelers_cost_mean = train_file.groupby('travel_with', as_index=False).cost_category.mean()"
   ]
  },
  {
   "cell_type": "code",
   "execution_count": 309,
   "metadata": {},
   "outputs": [],
   "source": [
    "#descriptive stats based on travel group type\n",
    "descriptive_travelers = train_file.groupby('travel_with').cost_category.describe()"
   ]
  },
  {
   "cell_type": "code",
   "execution_count": 310,
   "metadata": {},
   "outputs": [],
   "source": [
    "#correlations on attributes over 0.5 grouped by travel group type\n",
    "travelers_pos_corr = train_file.groupby('travel_with')[['package_transport_int', 'package_accomodation', 'package_food', 'package_transport_tz',\n",
    "                                'total_packages', 'cost_category']].corr()['cost_category']"
   ]
  },
  {
   "cell_type": "markdown",
   "metadata": {},
   "source": [
    "## age group stats"
   ]
  },
  {
   "cell_type": "code",
   "execution_count": 311,
   "metadata": {},
   "outputs": [],
   "source": [
    "#Counting/normalizing cost categories across travel purpose\n",
    "purpose_vs_cost = pd.crosstab(train_file.purpose, train_file.cost_category, normalize='columns')"
   ]
  },
  {
   "cell_type": "code",
   "execution_count": 312,
   "metadata": {},
   "outputs": [],
   "source": [
    "#getting mean cost_category across purpose types\n",
    "purpose_cost_mean = train_file.groupby('purpose', as_index=False).cost_category.mean()"
   ]
  },
  {
   "cell_type": "code",
   "execution_count": 313,
   "metadata": {},
   "outputs": [],
   "source": [
    "#descriptive stats based on purpose type\n",
    "descriptive_purpose = train_file.groupby('purpose').cost_category.describe()"
   ]
  },
  {
   "cell_type": "code",
   "execution_count": 314,
   "metadata": {},
   "outputs": [],
   "source": [
    "#correlations on attributes over 0.5 grouped by purpose type\n",
    "purpose_pos_corr = train_file.groupby('purpose')[['package_transport_int', 'package_accomodation', 'package_food', 'package_transport_tz',\n",
    "                                'total_packages', 'cost_category']].corr()['cost_category']"
   ]
  },
  {
   "cell_type": "markdown",
   "metadata": {},
   "source": [
    "## main activity stats"
   ]
  },
  {
   "cell_type": "code",
   "execution_count": 315,
   "metadata": {},
   "outputs": [],
   "source": [
    "#Counting/normalizing cost categories across main activities\n",
    "mainact_vs_cost = pd.crosstab(train_file.main_activity, train_file.cost_category, normalize='columns')"
   ]
  },
  {
   "cell_type": "code",
   "execution_count": 316,
   "metadata": {},
   "outputs": [],
   "source": [
    "#getting mean cost_category across mainact types\n",
    "mainact_cost_mean = train_file.groupby('main_activity', as_index=False).cost_category.mean()"
   ]
  },
  {
   "cell_type": "code",
   "execution_count": 317,
   "metadata": {},
   "outputs": [],
   "source": [
    "#descriptive stats based on main act type\n",
    "descriptive_mainact = train_file.groupby('main_activity').cost_category.describe()"
   ]
  },
  {
   "cell_type": "code",
   "execution_count": 318,
   "metadata": {},
   "outputs": [],
   "source": [
    "#correlations on attributes over 0.5 grouped by main act type\n",
    "mainact_pos_corr = train_file.groupby('main_activity')[['package_transport_int', 'package_accomodation', 'package_food', 'package_transport_tz',\n",
    "                                'total_packages', 'cost_category']].corr()['cost_category']"
   ]
  }
 ],
 "metadata": {
  "kernelspec": {
   "display_name": "Python 3 (ipykernel)",
   "language": "python",
   "name": "python3"
  },
  "language_info": {
   "codemirror_mode": {
    "name": "ipython",
    "version": 3
   },
   "file_extension": ".py",
   "mimetype": "text/x-python",
   "name": "python",
   "nbconvert_exporter": "python",
   "pygments_lexer": "ipython3",
   "version": "3.10.9"
  }
 },
 "nbformat": 4,
 "nbformat_minor": 4
}
